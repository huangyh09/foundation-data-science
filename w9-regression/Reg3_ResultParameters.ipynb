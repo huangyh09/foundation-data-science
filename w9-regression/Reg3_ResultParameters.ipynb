{
 "cells": [
  {
   "cell_type": "markdown",
   "metadata": {},
   "source": [
    "# Diagnostic check of a fitted regression model "
   ]
  },
  {
   "cell_type": "markdown",
   "metadata": {},
   "source": [
    "Apart from the $R^2$ statistic, there are other statistics and parameters that you need to look at in order to determine if the model is efficient. We will discuss some commonly used statistics – Residual Standard Errors, $p$-values, and $F$-statistics.\n",
    "\n",
    "### Residual Standard Errors (RSE)\n",
    "\n",
    "RSE is a common statistic used to calculate the accuracy of values predicted by a model. It is an estimate of the variance of the error term, `res`. For a simple linear regression model, RSE is defined as: \n",
    "$$  RSE^2 = \\frac{SSE}{n-2} = \\frac1{n-2} \\sum_{i=1}^n  \\Bigl(\\text{yact}_i - \\text{ypred}_i \\Bigr)^2.\n",
    "$$\n",
    "\n",
    "In general, \n",
    "\n",
    "$$  RSE^2 = \\frac{SSE}{n-p-1} = \\frac1{n-p-1} \\sum_{i=1}^n  \\Bigl(\\text{yact}_i - \\text{ypred}_i \\Bigr)^2.\n",
    "$$\n",
    " \n",
    "where $p$ is the number of predictor variables in a model where we have more than one predictor variables.\n",
    "\n",
    " \n",
    "A **multiple linear regression** model is a linear regression model with multiple predictors, written as  \n",
    "$$  Y_e = \\alpha +\\beta_1 * X_1 +\\cdots +\\beta_p X_p.\n",
    "$$\n",
    "\n",
    "As you see, the parameters and predictors are subscripted from 1 up to the number of predictors $p$. \n",
    "\n",
    "In multiple regression, the value of RSE generally decreases as we add variables that are more significant predictors of the output variable.\n",
    "\n",
    "Using our simulated data from the previous steps, the following code snippet shows how the RSE for a model can be calculated:"
   ]
  },
  {
   "cell_type": "code",
   "execution_count": 1,
   "metadata": {},
   "outputs": [
    {
     "data": {
      "text/html": [
       "<div>\n",
       "<style scoped>\n",
       "    .dataframe tbody tr th:only-of-type {\n",
       "        vertical-align: middle;\n",
       "    }\n",
       "\n",
       "    .dataframe tbody tr th {\n",
       "        vertical-align: top;\n",
       "    }\n",
       "\n",
       "    .dataframe thead th {\n",
       "        text-align: right;\n",
       "    }\n",
       "</style>\n",
       "<table border=\"1\" class=\"dataframe\">\n",
       "  <thead>\n",
       "    <tr style=\"text-align: right;\">\n",
       "      <th></th>\n",
       "      <th>X</th>\n",
       "      <th>yact</th>\n",
       "      <th>xycov</th>\n",
       "      <th>xvar</th>\n",
       "      <th>ypred</th>\n",
       "    </tr>\n",
       "  </thead>\n",
       "  <tbody>\n",
       "    <tr>\n",
       "      <th>0</th>\n",
       "      <td>5.910131</td>\n",
       "      <td>4.714615</td>\n",
       "      <td>9.282815</td>\n",
       "      <td>18.152805</td>\n",
       "      <td>3.911783</td>\n",
       "    </tr>\n",
       "    <tr>\n",
       "      <th>1</th>\n",
       "      <td>2.500393</td>\n",
       "      <td>2.076238</td>\n",
       "      <td>-0.391082</td>\n",
       "      <td>0.723985</td>\n",
       "      <td>2.810643</td>\n",
       "    </tr>\n",
       "    <tr>\n",
       "      <th>2</th>\n",
       "      <td>3.946845</td>\n",
       "      <td>2.548811</td>\n",
       "      <td>0.029747</td>\n",
       "      <td>5.277702</td>\n",
       "      <td>3.277760</td>\n",
       "    </tr>\n",
       "    <tr>\n",
       "      <th>3</th>\n",
       "      <td>7.102233</td>\n",
       "      <td>4.615368</td>\n",
       "      <td>11.338948</td>\n",
       "      <td>29.732079</td>\n",
       "      <td>4.296760</td>\n",
       "    </tr>\n",
       "    <tr>\n",
       "      <th>4</th>\n",
       "      <td>6.168895</td>\n",
       "      <td>3.264107</td>\n",
       "      <td>3.291209</td>\n",
       "      <td>20.424750</td>\n",
       "      <td>3.995348</td>\n",
       "    </tr>\n",
       "  </tbody>\n",
       "</table>\n",
       "</div>"
      ],
      "text/plain": [
       "          X      yact      xycov       xvar     ypred\n",
       "0  5.910131  4.714615   9.282815  18.152805  3.911783\n",
       "1  2.500393  2.076238  -0.391082   0.723985  2.810643\n",
       "2  3.946845  2.548811   0.029747   5.277702  3.277760\n",
       "3  7.102233  4.615368  11.338948  29.732079  4.296760\n",
       "4  6.168895  3.264107   3.291209  20.424750  3.995348"
      ]
     },
     "execution_count": 1,
     "metadata": {},
     "output_type": "execute_result"
    }
   ],
   "source": [
    "#### Import necessary libraries\n",
    "import pandas as pd\n",
    "import numpy as np\n",
    "\n",
    "# Generate same data as in previous step\n",
    "np.random.seed(0)\n",
    "X = 2.5 * np.random.randn(100) + 1.5\n",
    "res = 0.5 * np.random.randn(100)\n",
    "yact = 2 + 0.3 * X + res\n",
    "df = pd.DataFrame(\n",
    "    {'X': X,\n",
    "     'yact': yact}\n",
    ")\n",
    "\n",
    "# Calculate beta and alpha as in previous step\n",
    "xmean = np.mean(X)\n",
    "ymean = np.mean(yact)\n",
    "df['xycov'] = (df['X'] - xmean) * (df['yact'] - ymean)\n",
    "df['xvar'] = (df['X'] - xmean)**2\n",
    "beta = df['xycov'].sum() / df['xvar'].sum()\n",
    "alpha = ymean - (beta * xmean)\n",
    "\n",
    "# Store predictions as in previous step\n",
    "df['ypred'] = alpha + beta * df['X']\n",
    "\n",
    "# Show first five rows of dataframe\n",
    "df.head()"
   ]
  },
  {
   "cell_type": "code",
   "execution_count": 2,
   "metadata": {},
   "outputs": [
    {
     "name": "stdout",
     "output_type": "stream",
     "text": [
      "RSE = 0.5193136792898965\n"
     ]
    }
   ],
   "source": [
    "# Calculate SSE\n",
    "df['SSE'] = (df['yact'] - df['ypred'])**2\n",
    "SSE = df['SSE'].sum()\n",
    "\n",
    "# Calculate RSE\n",
    "RSE = np.sqrt(SSE / 98)   # n = 100\n",
    "print(f'RSE = {RSE}')"
   ]
  },
  {
   "cell_type": "markdown",
   "metadata": {},
   "source": [
    "The value of `RSE` comes out to be 0.52. \n",
    "\n",
    "As you might have guessed, the smaller the residual standard errors, the better the model is. \n",
    "\n",
    "The benchmark to compare this to is the mean of the actual values, `yact`. As shown previously, this value is `ymean = 2.54`. In plain English, this means we observe an error of 0.52 over 2.54 – approximately 20.48%.\n",
    "\n"
   ]
  },
  {
   "cell_type": "code",
   "execution_count": 3,
   "metadata": {},
   "outputs": [
    {
     "name": "stdout",
     "output_type": "stream",
     "text": [
      "Mean Y = 2.5358624970247825.\n",
      "Error = 0.20478779109639608.\n"
     ]
    }
   ],
   "source": [
    "error = RSE / ymean\n",
    "print(f'Mean Y = {ymean}.')\n",
    "print(f'Error = {error}.')"
   ]
  },
  {
   "cell_type": "code",
   "execution_count": null,
   "metadata": {},
   "outputs": [],
   "source": []
  },
  {
   "cell_type": "markdown",
   "metadata": {},
   "source": [
    "### p-values\n",
    "\n",
    "The calculation of $\\alpha$  and $\\beta$ are estimates, not exact calculations. Whether their values are significant or not needs to be tested using a **hypothesis test**.\n",
    "\n",
    "In the equation, $Y = \\alpha + \\beta X$, if we set $\\beta=0$,  there will be no relation between $Y$ and $X$. Therefore, the hypothesis tests whether the value of $\\beta$ is non-zero or not.\n",
    "\n",
    "$$\\begin{align*} \\text{Null hypothesis}~  H_0~:~  \\beta=0, & \\quad \\text{versus} \\\\\n",
    "\\text{Alternative hypothesis}~ H_1~:~ \\beta\\ne 0.&  \\end{align*}  $$\n",
    " \n",
    "\n",
    "Whenever a regression task is performed and $\\beta$ is calculated, there will be an accompanying **p-value** corresponding to this hypothesis test. We will not go through how this is calculated in this course (you can learn more [here](https://www.dummies.com/education/math/statistics/how-to-determine-a-p-value-when-testing-a-null-hypothesis/)), since it is calculated automatically by ready-made methods in Python. \n",
    "\n",
    "If the p-value is less than a chosen **significance level** (e.g. 0.05) then the null hypothesis that $\\beta = 0$ is rejected and $\\beta$ is said to be  <b>significant and non-zero</b>.\n",
    "\n",
    "In the case of multiple linear regression, the p-value associated with each $\\beta_k$   can be used to weed out insignificant predictors from the model. The higher the p-value for $\\beta_k$, the less significant $X_k$  is to the model."
   ]
  },
  {
   "cell_type": "code",
   "execution_count": null,
   "metadata": {},
   "outputs": [],
   "source": []
  },
  {
   "cell_type": "markdown",
   "metadata": {},
   "source": [
    "### F-statistics\n",
    "\n",
    "In a multiple regression model, apart from testing the significance of individual variables by checking the p-values, it is also necessary to check whether, as a group all the predictors are significant. This can be done using the following hypothesis:\n",
    "\n",
    "$$\\begin{align*} \\text{Null hypothesis}~  H_0~:~ & \\beta_1=\\beta_2=\\cdots=\\beta_p=0, \\quad \\text{versus} \\\\\n",
    "\\text{Alternative hypothesis}~ H_1~:~& \\text{at least one of the} ~\\beta_k's ~ \\text{is non zero}. \\end{align*}  $$\n",
    " \n",
    "\n",
    "The statistic that is used to test this hypothesis is called the **F-statistic** and is defined as follows:\n",
    "\n",
    "$$  F\\text{-statistic} = \\text{Fisher statistic}=  \\frac{ (SST-SSE)/p}{ SSE/(n-p-1)}\n",
    "$$\n",
    "\n",
    "where $n$ = number of rows (sample points) in the dataset and $p$ = number of predictor variables in the model.\n",
    "\n",
    "There is a $p$-value that is associated with this $F$-statistic. If the $p$-value is smaller than the chosen significance level, the null hypothesis can be rejected.\n",
    "\n",
    "It is important to look at the F-statistic because:\n",
    "\n",
    "- p-values are about individual relationships between predictors and the outcome variable. However, one predictor's relationship with the output might be impacted by the presence of other variables.\n",
    "- When the number of predictors in the model is very large and all the $\\beta_i$ are very close to zero, the individual p-values associated with the predictors might give very small values so we might incorrectly conclude that there is a relationship between the predictors and the outcome."
   ]
  },
  {
   "cell_type": "code",
   "execution_count": null,
   "metadata": {},
   "outputs": [],
   "source": []
  }
 ],
 "metadata": {
  "kernelspec": {
   "display_name": "Python 3",
   "language": "python",
   "name": "python3"
  },
  "language_info": {
   "codemirror_mode": {
    "name": "ipython",
    "version": 3
   },
   "file_extension": ".py",
   "mimetype": "text/x-python",
   "name": "python",
   "nbconvert_exporter": "python",
   "pygments_lexer": "ipython3",
   "version": "3.8.8"
  }
 },
 "nbformat": 4,
 "nbformat_minor": 4
}
