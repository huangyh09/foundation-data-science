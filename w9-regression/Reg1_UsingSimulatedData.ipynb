{
 "cells": [
  {
   "cell_type": "markdown",
   "metadata": {},
   "source": [
    "# Linear Regression Using Simulated Data"
   ]
  },
  {
   "cell_type": "markdown",
   "metadata": {},
   "source": [
    "Using `pandas` and `numpy`, let’s simulate some data and look at how the predicted values (*Y<sub>e</sub>*) differ from the actual value (*Y*).\n",
    "\n",
    "### Simulating data:\n",
    "- For *X*, we generate 100 normally distributed random numbers with mean 1.5 and standard deviation 2.5. \n",
    "\n",
    "- For predicted value *Y<sub>e</sub>*, we assume an intercept (α) of 2 and a slope (β) of 0.3 and we write ![](https://latex.codecogs.com/gif.latex?Y_e%20%3D%202%20+%200.3x)\n",
    "\n",
    "    Later, we will estimate the values of α and β using the least squares method and see how that changes the efficacy of the model. \n",
    "\n",
    "- Though we estimate $Y_e = \\alpha + \\beta X$, in reality Y is rarely perfectly linear. It usually has an error component or **residual** – $Y = \\alpha + \\beta X + R$, where *R* is a random variable and is assumed to be normally distributed.\n",
    "    \n",
    "    Therefore for the actual value *Y*, we add a residual term (`res`), a random variable distributed normally with mean 0 and a standard deviation of 0.5.\n",
    "\n",
    "The following cell shows the code snippet to generate these numbers and convert these three columns in a data frame. Read through the code carefully and run the cell to output a sample of our simulated data."
   ]
  },
  {
   "cell_type": "code",
   "execution_count": 1,
   "metadata": {
    "scrolled": true
   },
   "outputs": [],
   "source": [
    "# Import pandas and numpy\n",
    "import pandas as pd\n",
    "import numpy as np\n",
    "\n",
    "# Generate 'random' data\n",
    "np.random.seed(0)                      # fixed seed: each run gives the same random numbers so the same outputs. Commenting out this line would read similar but differentoutputs at each run. Try it out!\n",
    "X = 2.5 * np.random.randn(100) + 1.5   # Array of 100 values with mean = 1.5, stddev = 2.5\n",
    "ypred = 2 + 0.3 * X                    # Prediction of Y, assuming a = 2, b = 0.3\n",
    "res = 0.5 * np.random.randn(100)       # Generate 100 residual terms\n",
    "yact = 2 + 0.3 * X + res               # Actual values of Y\n",
    "\n",
    "# Create pandas dataframe to store our X, ypred, and yact values\n",
    "df = pd.DataFrame(\n",
    "    {'X': X,\n",
    "     'ypred': ypred,\n",
    "     'yact': yact}\n",
    ")"
   ]
  },
  {
   "cell_type": "code",
   "execution_count": 2,
   "metadata": {},
   "outputs": [
    {
     "data": {
      "text/html": [
       "<div>\n",
       "<style scoped>\n",
       "    .dataframe tbody tr th:only-of-type {\n",
       "        vertical-align: middle;\n",
       "    }\n",
       "\n",
       "    .dataframe tbody tr th {\n",
       "        vertical-align: top;\n",
       "    }\n",
       "\n",
       "    .dataframe thead th {\n",
       "        text-align: right;\n",
       "    }\n",
       "</style>\n",
       "<table border=\"1\" class=\"dataframe\">\n",
       "  <thead>\n",
       "    <tr style=\"text-align: right;\">\n",
       "      <th></th>\n",
       "      <th>X</th>\n",
       "      <th>ypred</th>\n",
       "      <th>yact</th>\n",
       "    </tr>\n",
       "  </thead>\n",
       "  <tbody>\n",
       "    <tr>\n",
       "      <th>0</th>\n",
       "      <td>5.910131</td>\n",
       "      <td>3.773039</td>\n",
       "      <td>4.714615</td>\n",
       "    </tr>\n",
       "    <tr>\n",
       "      <th>1</th>\n",
       "      <td>2.500393</td>\n",
       "      <td>2.750118</td>\n",
       "      <td>2.076238</td>\n",
       "    </tr>\n",
       "    <tr>\n",
       "      <th>2</th>\n",
       "      <td>3.946845</td>\n",
       "      <td>3.184053</td>\n",
       "      <td>2.548811</td>\n",
       "    </tr>\n",
       "    <tr>\n",
       "      <th>3</th>\n",
       "      <td>7.102233</td>\n",
       "      <td>4.130670</td>\n",
       "      <td>4.615368</td>\n",
       "    </tr>\n",
       "    <tr>\n",
       "      <th>4</th>\n",
       "      <td>6.168895</td>\n",
       "      <td>3.850668</td>\n",
       "      <td>3.264107</td>\n",
       "    </tr>\n",
       "  </tbody>\n",
       "</table>\n",
       "</div>"
      ],
      "text/plain": [
       "          X     ypred      yact\n",
       "0  5.910131  3.773039  4.714615\n",
       "1  2.500393  2.750118  2.076238\n",
       "2  3.946845  3.184053  2.548811\n",
       "3  7.102233  4.130670  4.615368\n",
       "4  6.168895  3.850668  3.264107"
      ]
     },
     "execution_count": 2,
     "metadata": {},
     "output_type": "execute_result"
    }
   ],
   "source": [
    "# Show the first five rows of our dataframe\n",
    "df.head()"
   ]
  },
  {
   "cell_type": "markdown",
   "metadata": {},
   "source": [
    "Now let’s plot both the actual output (`yact`) and predicted output (`ypred`) against the input variable (`X`) to see what the difference between `yact` and `ypred` is, and therefore, to see how accurately the proposed equation (`ypred = 2 + 0.3 * X`) has been able to predict the value of the output:"
   ]
  },
  {
   "cell_type": "code",
   "execution_count": 3,
   "metadata": {},
   "outputs": [
    {
     "data": {
      "image/png": "[encoded data removed]",
      "text/plain": [
       "<Figure size 600x400 with 1 Axes>"
      ]
     },
     "metadata": {
      "needs_background": "light"
     },
     "output_type": "display_data"
    }
   ],
   "source": [
    "import matplotlib.pyplot as plt\n",
    "\n",
    "# Plot prediction as blue line, actual values of Y as red markers\n",
    "plt.figure(dpi=100)\n",
    "plt.plot(X, ypred)\n",
    "plt.plot(X, yact, 'ro')\n",
    "plt.title('Actual vs Predicted values from the dummy dataset')\n",
    "\n",
    "plt.show()"
   ]
  },
  {
   "cell_type": "markdown",
   "metadata": {},
   "source": [
    "### Model efficacy\n",
    "\n",
    "How do we know the values we calculate for α and β are giving us a good model? We can explain the total variability in our model with the **Total Sum of Squares** or SST:\n",
    "\n",
    "$$SST = \\sum_{i=1}^n\\Bigl(\\text{yact}_i - \\text{yavg}\\Bigr)^2, \\qquad\\qquad \\text{yavg}=\\frac1n \\sum_{i=1}^n \\text{yact}_i$$\n",
    "            \n",
    "Mathematically, we have\n",
    "\n",
    "$$ \\sum_{i=1}^n\\Bigl(\\text{yact}_i - \\text{yavg}\\Bigr)^2\n",
    "= \\sum_{i=1}^n\\Bigl(\\text{ypred}_i -\\text{yavg} \\Bigr)^2\n",
    "+ \\sum_{i=1}^n\\Bigl(\\text{yact}_i - \\text{ypred}_i\\Bigr)^2$$\n",
    "\n",
    "The identity reads as \n",
    "\n",
    "**Total Sum of Squares**  = **Regression Sum of Squares** + **Difference Sum of Squares**,\n",
    "\n",
    "or simply ,  \n",
    "\n",
    "**SST** = **SSR** + **SSE**.\n",
    "\n",
    "The Regression Sum of Squares or SSR measures the variation of the regression/predicted values, and the Difference Sum of Squares SSD the variation between the actual and the predicted values.  \n",
    "\n",
    "An alternative saying is that SSR is the difference explained by the model, SSD is the difference not explained by the model and is random, and SST is the total error.\n",
    "\n",
    "<img src=\"./sumOfSquares.png\" title=\"SST consists of SSR (the variance explained by the model) and SSD (the variance not explained by the model).\" />\n",
    "\n",
    "### *R-Squared*\n",
    "\n",
    "The higher the ratio of SSR to SST, the better the model is. This ratio is quantified by the **coefficient of determination** (also known as ***R<sup>2</sup>*** or ***R*-squared**):\n",
    "\n",
    "$$ R^2= \\frac{SSR}{SST}$$. \n",
    "\n",
    "Since $SST= SSR+SSD$, $\\qquad 0\\le R^2\\le 1$.  \n",
    "\n",
    "The closer it is to 1, the better the model. Note that there are many other factors that we need to analyse before we can conclude a linear regression model is effective, but a high $R^2$ is a pretty good indicator.\n",
    "\n",
    "Let’s see what the value of $R^2$ is for our simulated dataset."
   ]
  },
  {
   "cell_type": "code",
   "execution_count": 4,
   "metadata": {},
   "outputs": [
    {
     "name": "stdout",
     "output_type": "stream",
     "text": [
      "Mean of Y = 2.5358624970247825\n",
      "R2 = 0.6185994959777246\n"
     ]
    }
   ],
   "source": [
    "# Calculate the mean of Y\n",
    "ymean = np.mean(yact)\n",
    "print(f'Mean of Y = {ymean}')\n",
    "\n",
    "# Calculate SSR and SST\n",
    "df['SSR'] = (df['ypred'] - ymean)**2\n",
    "df['SST'] = (df['yact'] - ymean)**2\n",
    "SSR = df['SSR'].sum()\n",
    "SST = df['SST'].sum()\n",
    "\n",
    "# Calculate R-squared\n",
    "R2 = SSR / SST\n",
    "print(f'R2 = {R2}')"
   ]
  },
  {
   "cell_type": "markdown",
   "metadata": {},
   "source": [
    "The value of $R^2=0.618$ suggests that `ypred` provides a decent prediction of the `yact`. \n",
    "\n",
    "We have randomly assumed some values for $\\alpha$  and $\\beta$, but these may or may not be the best values. In the next step, we will use the least sum of square method to calculate the optimum value for $\\alpha$ and $\\beta$ to see if there is an improvement in $R^2$.\n",
    "\n",
    "To get started on the next step, open the notebook called `Reg2_LeastSquaresUsingSimulatedData.ipynb`."
   ]
  },
  {
   "cell_type": "code",
   "execution_count": null,
   "metadata": {},
   "outputs": [],
   "source": []
  }
 ],
 "metadata": {
  "kernelspec": {
   "display_name": "Python 3",
   "language": "python",
   "name": "python3"
  },
  "language_info": {
   "codemirror_mode": {
    "name": "ipython",
    "version": 3
   },
   "file_extension": ".py",
   "mimetype": "text/x-python",
   "name": "python",
   "nbconvert_exporter": "python",
   "pygments_lexer": "ipython3",
   "version": "3.8.8"
  }
 },
 "nbformat": 4,
 "nbformat_minor": 4
}
