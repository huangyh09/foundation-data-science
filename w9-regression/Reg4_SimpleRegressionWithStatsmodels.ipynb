{
 "cells": [
  {
   "cell_type": "markdown",
   "metadata": {},
   "source": [
    "# Simple Linear Regression with `statsmodels`"
   ]
  },
  {
   "cell_type": "markdown",
   "metadata": {},
   "source": [
    "The Python libraries `statsmodels` and `scikit-learn` make implementing linear regression very easy - much easier than implementing from scratch like we did in the last lesson.\n",
    "\n",
    "We will start with the `statsmodels` library. First, let's import the `advertising` data."
   ]
  },
  {
   "cell_type": "code",
   "execution_count": 1,
   "metadata": {},
   "outputs": [
    {
     "data": {
      "text/html": [
       "<div>\n",
       "<style scoped>\n",
       "    .dataframe tbody tr th:only-of-type {\n",
       "        vertical-align: middle;\n",
       "    }\n",
       "\n",
       "    .dataframe tbody tr th {\n",
       "        vertical-align: top;\n",
       "    }\n",
       "\n",
       "    .dataframe thead th {\n",
       "        text-align: right;\n",
       "    }\n",
       "</style>\n",
       "<table border=\"1\" class=\"dataframe\">\n",
       "  <thead>\n",
       "    <tr style=\"text-align: right;\">\n",
       "      <th></th>\n",
       "      <th>TV</th>\n",
       "      <th>Radio</th>\n",
       "      <th>Newspaper</th>\n",
       "      <th>Sales</th>\n",
       "    </tr>\n",
       "  </thead>\n",
       "  <tbody>\n",
       "    <tr>\n",
       "      <th>0</th>\n",
       "      <td>230.1</td>\n",
       "      <td>37.8</td>\n",
       "      <td>69.2</td>\n",
       "      <td>22.1</td>\n",
       "    </tr>\n",
       "    <tr>\n",
       "      <th>1</th>\n",
       "      <td>44.5</td>\n",
       "      <td>39.3</td>\n",
       "      <td>45.1</td>\n",
       "      <td>10.4</td>\n",
       "    </tr>\n",
       "    <tr>\n",
       "      <th>2</th>\n",
       "      <td>17.2</td>\n",
       "      <td>45.9</td>\n",
       "      <td>69.3</td>\n",
       "      <td>9.3</td>\n",
       "    </tr>\n",
       "    <tr>\n",
       "      <th>3</th>\n",
       "      <td>151.5</td>\n",
       "      <td>41.3</td>\n",
       "      <td>58.5</td>\n",
       "      <td>18.5</td>\n",
       "    </tr>\n",
       "    <tr>\n",
       "      <th>4</th>\n",
       "      <td>180.8</td>\n",
       "      <td>10.8</td>\n",
       "      <td>58.4</td>\n",
       "      <td>12.9</td>\n",
       "    </tr>\n",
       "  </tbody>\n",
       "</table>\n",
       "</div>"
      ],
      "text/plain": [
       "      TV  Radio  Newspaper  Sales\n",
       "0  230.1   37.8       69.2   22.1\n",
       "1   44.5   39.3       45.1   10.4\n",
       "2   17.2   45.9       69.3    9.3\n",
       "3  151.5   41.3       58.5   18.5\n",
       "4  180.8   10.8       58.4   12.9"
      ]
     },
     "execution_count": 1,
     "metadata": {},
     "output_type": "execute_result"
    }
   ],
   "source": [
    "# Import necessary libaries\n",
    "import pandas as pd\n",
    "import numpy as np\n",
    "from matplotlib import pyplot as plt\n",
    "\n",
    "# Import and display first five rows of advertising dataset\n",
    "github_path = 'https://raw.githubusercontent.com/huangyh09/foundation-data-science/'\n",
    "dat_dir = github_path + 'main/w9-regression/'\n",
    "# dat_dir = './'\n",
    "\n",
    "advert = pd.read_csv(dat_dir + 'advertising.csv')\n",
    "advert.head()"
   ]
  },
  {
   "cell_type": "code",
   "execution_count": 2,
   "metadata": {},
   "outputs": [
    {
     "data": {
      "text/html": [
       "<div>\n",
       "<style scoped>\n",
       "    .dataframe tbody tr th:only-of-type {\n",
       "        vertical-align: middle;\n",
       "    }\n",
       "\n",
       "    .dataframe tbody tr th {\n",
       "        vertical-align: top;\n",
       "    }\n",
       "\n",
       "    .dataframe thead th {\n",
       "        text-align: right;\n",
       "    }\n",
       "</style>\n",
       "<table border=\"1\" class=\"dataframe\">\n",
       "  <thead>\n",
       "    <tr style=\"text-align: right;\">\n",
       "      <th></th>\n",
       "      <th>TV</th>\n",
       "      <th>Radio</th>\n",
       "      <th>Newspaper</th>\n",
       "      <th>Sales</th>\n",
       "    </tr>\n",
       "  </thead>\n",
       "  <tbody>\n",
       "    <tr>\n",
       "      <th>count</th>\n",
       "      <td>200.000000</td>\n",
       "      <td>200.000000</td>\n",
       "      <td>200.000000</td>\n",
       "      <td>200.000000</td>\n",
       "    </tr>\n",
       "    <tr>\n",
       "      <th>mean</th>\n",
       "      <td>147.042500</td>\n",
       "      <td>23.264000</td>\n",
       "      <td>30.554000</td>\n",
       "      <td>14.022500</td>\n",
       "    </tr>\n",
       "    <tr>\n",
       "      <th>std</th>\n",
       "      <td>85.854236</td>\n",
       "      <td>14.846809</td>\n",
       "      <td>21.778621</td>\n",
       "      <td>5.217457</td>\n",
       "    </tr>\n",
       "    <tr>\n",
       "      <th>min</th>\n",
       "      <td>0.700000</td>\n",
       "      <td>0.000000</td>\n",
       "      <td>0.300000</td>\n",
       "      <td>1.600000</td>\n",
       "    </tr>\n",
       "    <tr>\n",
       "      <th>25%</th>\n",
       "      <td>74.375000</td>\n",
       "      <td>9.975000</td>\n",
       "      <td>12.750000</td>\n",
       "      <td>10.375000</td>\n",
       "    </tr>\n",
       "    <tr>\n",
       "      <th>50%</th>\n",
       "      <td>149.750000</td>\n",
       "      <td>22.900000</td>\n",
       "      <td>25.750000</td>\n",
       "      <td>12.900000</td>\n",
       "    </tr>\n",
       "    <tr>\n",
       "      <th>75%</th>\n",
       "      <td>218.825000</td>\n",
       "      <td>36.525000</td>\n",
       "      <td>45.100000</td>\n",
       "      <td>17.400000</td>\n",
       "    </tr>\n",
       "    <tr>\n",
       "      <th>max</th>\n",
       "      <td>296.400000</td>\n",
       "      <td>49.600000</td>\n",
       "      <td>114.000000</td>\n",
       "      <td>27.000000</td>\n",
       "    </tr>\n",
       "  </tbody>\n",
       "</table>\n",
       "</div>"
      ],
      "text/plain": [
       "               TV       Radio   Newspaper       Sales\n",
       "count  200.000000  200.000000  200.000000  200.000000\n",
       "mean   147.042500   23.264000   30.554000   14.022500\n",
       "std     85.854236   14.846809   21.778621    5.217457\n",
       "min      0.700000    0.000000    0.300000    1.600000\n",
       "25%     74.375000    9.975000   12.750000   10.375000\n",
       "50%    149.750000   22.900000   25.750000   12.900000\n",
       "75%    218.825000   36.525000   45.100000   17.400000\n",
       "max    296.400000   49.600000  114.000000   27.000000"
      ]
     },
     "execution_count": 2,
     "metadata": {},
     "output_type": "execute_result"
    }
   ],
   "source": [
    "# r, c = advert.shape  #print(\"nb of rows =\",r)\n",
    "\n",
    "advert.describe()"
   ]
  },
  {
   "cell_type": "markdown",
   "metadata": {},
   "source": [
    "This dataset contains data about the advertising budget spent on TV, Radio, and Newspapers for a particular product and the resulting sales. We expect a positive correlation between such <b>advertising costs</b> and <b>sales</b>. \n",
    "\n",
    "Let’s start with <b> TV advertising costs</b> to create a simple linear regression model. First let’s plot the variables to get a better sense of their relationship:"
   ]
  },
  {
   "cell_type": "code",
   "execution_count": 3,
   "metadata": {},
   "outputs": [
    {
     "data": {
      "image/png": "[encoded data removed]",
      "text/plain": [
       "<Figure size 600x400 with 1 Axes>"
      ]
     },
     "metadata": {
      "needs_background": "light"
     },
     "output_type": "display_data"
    }
   ],
   "source": [
    "# Create scatter plot\n",
    "plt.figure(dpi=100)\n",
    "plt.plot(advert['TV'], advert['Sales'], 'o')\n",
    "plt.xlabel('TV Advertising Costs')\n",
    "plt.ylabel('Sales')\n",
    "plt.title('TV vs Sales')\n",
    "\n",
    "plt.show()"
   ]
  },
  {
   "cell_type": "markdown",
   "metadata": {},
   "source": [
    "As TV advertisement cost increases, sales also increase – they are positively correlated! \n",
    "\n",
    "Now with the `statsmodels` library, let’s create a line of best fit using the least sum of square method."
   ]
  },
  {
   "cell_type": "code",
   "execution_count": 4,
   "metadata": {},
   "outputs": [],
   "source": [
    "import statsmodels.formula.api as smf\n",
    "\n",
    "# Initialise and fit linear regression model using `statsmodels`\n",
    "model1 = smf.ols('Sales ~ TV', data=advert)\n",
    "model1 = model1.fit()"
   ]
  },
  {
   "cell_type": "markdown",
   "metadata": {},
   "source": [
    "In the above code, we used `statsmodels`’ `ols` function to initialise our simple linear regression model. This takes the formula `y ~ X`, where `X` is the predictor variable (TV advertising costs) and `y` is the output variable (Sales). Then, we fit the model by calling the OLS object’s `fit()` method. If you’d like to learn more about `ols`, you can read the documentation [here](https://www.statsmodels.org/dev/generated/statsmodels.regression.linear_model.OLS.html).\n",
    "\n",
    "Calling `.params` will show us the model’s parameters:"
   ]
  },
  {
   "cell_type": "code",
   "execution_count": 5,
   "metadata": {},
   "outputs": [
    {
     "data": {
      "text/plain": [
       "Intercept    7.032594\n",
       "TV           0.047537\n",
       "dtype: float64"
      ]
     },
     "execution_count": 5,
     "metadata": {},
     "output_type": "execute_result"
    }
   ],
   "source": [
    "model1.params"
   ]
  },
  {
   "cell_type": "markdown",
   "metadata": {},
   "source": [
    "In the notation that we have been using, $\\alpha$ is the intercept and  $\\beta$ is the slope i.e.:\n",
    "\n",
    "$\\alpha = 7.032, \\quad \\beta = 0.047$\n",
    "\n",
    "Thus, the equation for the model will be:\n",
    "\n",
    "$\\text{Sales} = 7.032 + 0.047*\\text{TV}$\n",
    "\n",
    "Let's also check an indicator of the model efficacy, *R<sup>2</sup>*. Luckily, `statsmodel` gives us a ready-made method for doing this so we don’t need to code all the math ourselves:"
   ]
  },
  {
   "cell_type": "code",
   "execution_count": 6,
   "metadata": {},
   "outputs": [
    {
     "data": {
      "text/plain": [
       "0.611875050850071"
      ]
     },
     "execution_count": 6,
     "metadata": {},
     "output_type": "execute_result"
    }
   ],
   "source": [
    "model1.rsquared"
   ]
  },
  {
   "cell_type": "markdown",
   "metadata": {},
   "source": [
    "We can also take a look at the model summary by writing this snippet:"
   ]
  },
  {
   "cell_type": "code",
   "execution_count": 7,
   "metadata": {},
   "outputs": [
    {
     "name": "stdout",
     "output_type": "stream",
     "text": [
      "                            OLS Regression Results                            \n",
      "==============================================================================\n",
      "Dep. Variable:                  Sales   R-squared:                       0.612\n",
      "Model:                            OLS   Adj. R-squared:                  0.610\n",
      "Method:                 Least Squares   F-statistic:                     312.1\n",
      "Date:                Mon, 01 Nov 2021   Prob (F-statistic):           1.47e-42\n",
      "Time:                        13:41:03   Log-Likelihood:                -519.05\n",
      "No. Observations:                 200   AIC:                             1042.\n",
      "Df Residuals:                     198   BIC:                             1049.\n",
      "Df Model:                           1                                         \n",
      "Covariance Type:            nonrobust                                         \n",
      "==============================================================================\n",
      "                 coef    std err          t      P>|t|      [0.025      0.975]\n",
      "------------------------------------------------------------------------------\n",
      "Intercept      7.0326      0.458     15.360      0.000       6.130       7.935\n",
      "TV             0.0475      0.003     17.668      0.000       0.042       0.053\n",
      "==============================================================================\n",
      "Omnibus:                        0.531   Durbin-Watson:                   1.935\n",
      "Prob(Omnibus):                  0.767   Jarque-Bera (JB):                0.669\n",
      "Skew:                          -0.089   Prob(JB):                        0.716\n",
      "Kurtosis:                       2.779   Cond. No.                         338.\n",
      "==============================================================================\n",
      "\n",
      "Notes:\n",
      "[1] Standard Errors assume that the covariance matrix of the errors is correctly specified.\n"
     ]
    }
   ],
   "source": [
    "print(model1.summary())"
   ]
  },
  {
   "cell_type": "markdown",
   "metadata": {},
   "source": [
    "There is a lot here. Of these results, we have discussed:\n",
    "- R-squared\n",
    "- F-statistic\n",
    "- Prob (F-statistic) - this is the p-value of the F-statistic\n",
    "- Intercept coef - this is `alpha`\n",
    "- TV coef - this is `beta` for predictor `TV`\n",
    "- P>|t| - this is the p-value for our coefficients\n",
    "\n",
    "You can learn more about the other linear regression results [here](https://www.statsmodels.org/dev/generated/statsmodels.regression.linear_model.RegressionResults.html).\n",
    "\n",
    "Now that we’ve fit a simple regression model, we can try to predict the values of sales based on the equation we just derived!"
   ]
  },
  {
   "cell_type": "code",
   "execution_count": 8,
   "metadata": {},
   "outputs": [],
   "source": [
    "sales_pred = model1.predict(advert['TV'])"
   ]
  },
  {
   "cell_type": "markdown",
   "metadata": {},
   "source": [
    "The `.predict` method predicts sales value for each row based on the model equation using TV costs. This is the equivalent of manually typing out our equation: `sales_pred = 7.032 + 0.047*(advert['TV'])`.\n",
    "\n",
    "We can visualise our regression model by plotting `sales_pred` against the TV advertising costs to find the line of best fit:"
   ]
  },
  {
   "cell_type": "code",
   "execution_count": 9,
   "metadata": {},
   "outputs": [
    {
     "data": {
      "image/png": "[encoded data removed]",
      "text/plain": [
       "<Figure size 600x400 with 1 Axes>"
      ]
     },
     "metadata": {
      "needs_background": "light"
     },
     "output_type": "display_data"
    }
   ],
   "source": [
    "# Plot regression against actual data\n",
    "plt.figure(dpi=100)\n",
    "plt.plot(advert['TV'], advert['Sales'], 'o')           # scatter plot showing actual data\n",
    "plt.plot(advert['TV'], sales_pred, 'r', linewidth=2)   # regression line\n",
    "plt.xlabel('TV Advertising Costs')\n",
    "plt.ylabel('Sales')\n",
    "plt.title('TV vs Sales')\n",
    "\n",
    "plt.show()"
   ]
  },
  {
   "cell_type": "markdown",
   "metadata": {},
   "source": [
    "Now let's calculate the RSE to measure how accurate our model is in predicting sales:"
   ]
  },
  {
   "cell_type": "code",
   "execution_count": 10,
   "metadata": {},
   "outputs": [
    {
     "name": "stdout",
     "output_type": "stream",
     "text": [
      "SST=5417.1488,  SSR=3314.6182,  SSD=2102.5306\n",
      "\n",
      "SST-(SSR+SSD) = -0.0\n",
      "\n"
     ]
    }
   ],
   "source": [
    "# Sums of squares and identity \n",
    "\n",
    "#Create new column to store predictions\n",
    "advert['sales_pred'] = sales_pred\n",
    "\n",
    "salesmean = np.mean(advert['Sales'])\n",
    "\n",
    "# Checking the identity: SST = SSR + SSD  \n",
    "advert['SST'] = (advert['Sales'] - salesmean)**2\n",
    "SST = advert['SST'].sum()\n",
    "advert['SSR'] = (advert['sales_pred'] - salesmean)**2\n",
    "SSR = advert['SSR'].sum()\n",
    "advert['SSD'] = (advert['Sales'] - advert['sales_pred'])**2\n",
    "SSD = advert['SSD'].sum()\n",
    "\n",
    "print(f'SST={np.round(SST,4)},  SSR={np.round(SSR,4)},  SSD={np.round(SSD,4)}\\n')\n",
    "\n",
    "print(f'SST-(SSR+SSD) = {np.round(SST-(SSR+SSD),4)}\\n')\n",
    "\n",
    " \n"
   ]
  },
  {
   "cell_type": "code",
   "execution_count": 11,
   "metadata": {},
   "outputs": [
    {
     "name": "stdout",
     "output_type": "stream",
     "text": [
      "RSE = 3.2587,  Mean sale = 14.022500000000003\n",
      "Error = 23.24%\n"
     ]
    }
   ],
   "source": [
    "# Calculate RSE\n",
    "\n",
    "RSE = np.sqrt(SSD / 198)   # n = 200\n",
    "salesmean = np.mean(advert['Sales'])\n",
    "error = RSE / salesmean\n",
    "\n",
    "print(f'RSE = {np.round(RSE,4)},  Mean sale = {salesmean}\\nError = {np.round(error, 4)*100}%')"
   ]
  },
  {
   "cell_type": "markdown",
   "metadata": {},
   "source": [
    "Thus, this model has an average accuracy of 76.76%. This can definitely be improved upon!\n",
    "\n",
    "In the next step, we will add more features as predictors and see whether it improves our model. Go to the  the notebook called `Reg5Multiple regression with statsmodels.ipynb`."
   ]
  },
  {
   "cell_type": "code",
   "execution_count": 12,
   "metadata": {},
   "outputs": [
    {
     "name": "stdout",
     "output_type": "stream",
     "text": [
      "R2 = 0.6119\n"
     ]
    }
   ],
   "source": [
    "SSR/SST \n",
    "print(f'R2 = {np.round(SSR/SST,4)}')"
   ]
  },
  {
   "cell_type": "code",
   "execution_count": null,
   "metadata": {},
   "outputs": [],
   "source": []
  }
 ],
 "metadata": {
  "kernelspec": {
   "display_name": "Python 3",
   "language": "python",
   "name": "python3"
  },
  "language_info": {
   "codemirror_mode": {
    "name": "ipython",
    "version": 3
   },
   "file_extension": ".py",
   "mimetype": "text/x-python",
   "name": "python",
   "nbconvert_exporter": "python",
   "pygments_lexer": "ipython3",
   "version": "3.8.8"
  }
 },
 "nbformat": 4,
 "nbformat_minor": 4
}
