{
 "cells": [
  {
   "cell_type": "markdown",
   "metadata": {},
   "source": [
    "# Least Squares Using Simulated Data"
   ]
  },
  {
   "cell_type": "markdown",
   "metadata": {},
   "source": [
    "Now, using our simulated data from the previous step, let’s estimate the optimum values of our variable coefficients, $\\alpha$ and $\\beta$. Using the predictor variable, `X`, and the output variable, `yact`, we will calculate the values of $\\alpha$ and $\\beta$ using the Least Squares method described in the lecture.\n",
    "\n",
    "The cell below creates the same dataframe as previously. Run the cell to get started!"
   ]
  },
  {
   "cell_type": "code",
   "execution_count": 1,
   "metadata": {},
   "outputs": [
    {
     "data": {
      "text/html": [
       "<div>\n",
       "<style scoped>\n",
       "    .dataframe tbody tr th:only-of-type {\n",
       "        vertical-align: middle;\n",
       "    }\n",
       "\n",
       "    .dataframe tbody tr th {\n",
       "        vertical-align: top;\n",
       "    }\n",
       "\n",
       "    .dataframe thead th {\n",
       "        text-align: right;\n",
       "    }\n",
       "</style>\n",
       "<table border=\"1\" class=\"dataframe\">\n",
       "  <thead>\n",
       "    <tr style=\"text-align: right;\">\n",
       "      <th></th>\n",
       "      <th>X</th>\n",
       "      <th>ypred</th>\n",
       "      <th>yact</th>\n",
       "    </tr>\n",
       "  </thead>\n",
       "  <tbody>\n",
       "    <tr>\n",
       "      <th>0</th>\n",
       "      <td>5.910131</td>\n",
       "      <td>3.773039</td>\n",
       "      <td>4.714615</td>\n",
       "    </tr>\n",
       "    <tr>\n",
       "      <th>1</th>\n",
       "      <td>2.500393</td>\n",
       "      <td>2.750118</td>\n",
       "      <td>2.076238</td>\n",
       "    </tr>\n",
       "    <tr>\n",
       "      <th>2</th>\n",
       "      <td>3.946845</td>\n",
       "      <td>3.184053</td>\n",
       "      <td>2.548811</td>\n",
       "    </tr>\n",
       "    <tr>\n",
       "      <th>3</th>\n",
       "      <td>7.102233</td>\n",
       "      <td>4.130670</td>\n",
       "      <td>4.615368</td>\n",
       "    </tr>\n",
       "    <tr>\n",
       "      <th>4</th>\n",
       "      <td>6.168895</td>\n",
       "      <td>3.850668</td>\n",
       "      <td>3.264107</td>\n",
       "    </tr>\n",
       "  </tbody>\n",
       "</table>\n",
       "</div>"
      ],
      "text/plain": [
       "          X     ypred      yact\n",
       "0  5.910131  3.773039  4.714615\n",
       "1  2.500393  2.750118  2.076238\n",
       "2  3.946845  3.184053  2.548811\n",
       "3  7.102233  4.130670  4.615368\n",
       "4  6.168895  3.850668  3.264107"
      ]
     },
     "execution_count": 1,
     "metadata": {},
     "output_type": "execute_result"
    }
   ],
   "source": [
    "# Import pandas, numpy, and matplotlib.pyplot\n",
    "import pandas as pd\n",
    "import numpy as np\n",
    "import matplotlib.pyplot as plt\n",
    "\n",
    "# Generate same data as in previous step\n",
    "np.random.seed(0)\n",
    "X = 2.5 * np.random.randn(100) + 1.5\n",
    "ypred = 2 + 0.3 * X\n",
    "res = 0.5 * np.random.randn(100)\n",
    "yact = 2 + 0.3 * X + res\n",
    "df = pd.DataFrame(\n",
    "    {'X': X,\n",
    "     'ypred': ypred,\n",
    "     'yact': yact}\n",
    ")\n",
    "\n",
    "# Show the first five rows of our dataframe\n",
    "df.head()"
   ]
  },
  {
   "cell_type": "code",
   "execution_count": null,
   "metadata": {},
   "outputs": [],
   "source": []
  },
  {
   "cell_type": "markdown",
   "metadata": {},
   "source": [
    "Just to reiterate, here are the formulas for $\\alpha$ and $\\beta$ again:\n",
    "\n",
    " $$\\hat\\beta=\\frac{\\sum_{i=1}^n(X_i-\\bar X)(Y_i-\\bar Y)}{\\sum_{i=1}^n(X_i-\\bar X)^2}=\\frac{\\text{cov}(X,Y)}{\\text{var}(X)}$$\n",
    " \n",
    " $$\\hat\\alpha=\\bar Y-\\hat\\beta * \\bar X$$\n",
    "\n",
    "To calculate these coefficients, we will create a few more columns in our `df` data frame. We need to calculate `xmean` and `ymean` to calculate the covariance of X and Y (`xycov`) and the variance of X (`xvar`) before we can work out the values for `alpha` and `beta`."
   ]
  },
  {
   "cell_type": "code",
   "execution_count": 2,
   "metadata": {},
   "outputs": [
    {
     "name": "stdout",
     "output_type": "stream",
     "text": [
      "alpha = 2.0031670124623426\n",
      "beta = 0.3229396867092763\n"
     ]
    }
   ],
   "source": [
    "# Calculate the mean of X and Y\n",
    "xmean = np.mean(X)\n",
    "ymean = np.mean(yact)\n",
    "\n",
    "# Calculate the terms needed for the numator and denominator of beta\n",
    "df['xycov'] = (df['X'] - xmean) * (df['yact'] - ymean)\n",
    "df['xvar'] = (df['X'] - xmean)**2\n",
    "\n",
    "# Calculate beta and alpha\n",
    "beta = df['xycov'].sum() / df['xvar'].sum()\n",
    "alpha = ymean - (beta * xmean)\n",
    "print(f'alpha = {alpha}\\nbeta = {beta}')"
   ]
  },
  {
   "cell_type": "markdown",
   "metadata": {},
   "source": [
    "As we can see, the values are only a little different from what we had assumed earlier. \n",
    "\n",
    "Let’s see how the value of $R^2$  changes if we use the new values of $\\alpha$ and $\\beta$. \n",
    "\n",
    "The equation for the new model can be written as:\n",
    "$$ y=2.003 + 0.323 * x $$ \n",
    "\n",
    "Let’s create a new column in `df` to accommodate the values generated by this equation and call this `ypred2`, and calculate the new $R^2$. "
   ]
  },
  {
   "cell_type": "code",
   "execution_count": 3,
   "metadata": {},
   "outputs": [
    {
     "name": "stdout",
     "output_type": "stream",
     "text": [
      "New R2 = 0.7147163547202341.\n"
     ]
    }
   ],
   "source": [
    "# Create new column to store new predictions\n",
    "df['ypred2'] = alpha + beta * df['X']\n",
    "\n",
    "# Calculate new SSR with new predictions of Y.\n",
    "# Note that SST remains the same since yact and ymean do not change.\n",
    "df['SSR2'] = (df['ypred2'] - ymean)**2\n",
    "df['SST'] = (df['yact'] - ymean)**2\n",
    "SSR2 = df['SSR2'].sum()\n",
    "SST = df['SST'].sum()\n",
    "\n",
    "# Calculate new R2\n",
    "R22 = SSR2 / SST\n",
    "print(f'New R2 = {R22}.')"
   ]
  },
  {
   "cell_type": "markdown",
   "metadata": {},
   "source": [
    "The new value of $R^2= 0.715$ shows a slight improvement from the previous value of $R^2=0.618$ (obtained with $\\alpha=2,~\\beta=0.3$).\n",
    "\n",
    "Let’s also plot our new prediction model against the actual values and our earlier assumed model, just to get a better visual understanding. "
   ]
  },
  {
   "cell_type": "code",
   "execution_count": 4,
   "metadata": {},
   "outputs": [
    {
     "data": {
      "image/png": "[encoded data removed]",
      "text/plain": [
       "<Figure size 600x400 with 1 Axes>"
      ]
     },
     "metadata": {
      "needs_background": "light"
     },
     "output_type": "display_data"
    }
   ],
   "source": [
    "# Plot first prediction as blue line, second prediction as purple line,  and\n",
    "# actual values of Y as red markers\n",
    "plt.figure(dpi=100)\n",
    "plt.plot(X, yact, 'o')\n",
    "plt.plot(X, ypred, label='original guess')\n",
    "plt.plot(X, df['ypred2'], label='OLS fitting')\n",
    "\n",
    "\n",
    "plt.title('''Actual vs Predicted with guessed parameters\n",
    "vs Predicted with calculated parameters''')\n",
    "\n",
    "plt.legend()\n",
    "plt.show()"
   ]
  },
  {
   "cell_type": "markdown",
   "metadata": {},
   "source": [
    "As we can see, the `ypred2` and `ypred` are more or less overlapping since the respective values of ɑ and β are not very different.\n",
    "\n",
    "Next, we will explore other methods of determining model efficacy. Go back to the notebook directory and open the notebook called `Reg3_ResultParameters.ipynb`."
   ]
  },
  {
   "cell_type": "code",
   "execution_count": null,
   "metadata": {},
   "outputs": [],
   "source": []
  }
 ],
 "metadata": {
  "kernelspec": {
   "display_name": "Python 3",
   "language": "python",
   "name": "python3"
  },
  "language_info": {
   "codemirror_mode": {
    "name": "ipython",
    "version": 3
   },
   "file_extension": ".py",
   "mimetype": "text/x-python",
   "name": "python",
   "nbconvert_exporter": "python",
   "pygments_lexer": "ipython3",
   "version": "3.8.8"
  }
 },
 "nbformat": 4,
 "nbformat_minor": 4
}
