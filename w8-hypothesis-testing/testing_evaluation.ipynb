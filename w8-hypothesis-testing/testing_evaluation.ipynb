{
 "cells": [
  {
   "cell_type": "markdown",
   "id": "a5ce15ff-7f1c-4b24-983f-71272a226099",
   "metadata": {},
   "source": [
    "# Evaluation of hypothesis testing"
   ]
  },
  {
   "cell_type": "code",
   "execution_count": null,
   "id": "3f17c687-ac70-4cf7-a766-5f9b42fd5ed7",
   "metadata": {},
   "outputs": [],
   "source": [
    "import numpy as np\n",
    "from scipy import stats\n",
    "import matplotlib.pyplot as plt"
   ]
  },
  {
   "cell_type": "markdown",
   "id": "db5876a4-f046-4d1a-9561-8b00ee0f6b3e",
   "metadata": {},
   "source": [
    "## Multiple testing"
   ]
  },
  {
   "cell_type": "markdown",
   "id": "11b0dd0e-3c41-4cf1-805c-964a1830d13b",
   "metadata": {},
   "source": [
    "Hypothetic null distribution. \n",
    "Feel feel to try any null distribution, examples below"
   ]
  },
  {
   "cell_type": "code",
   "execution_count": null,
   "id": "a5ffffb7-56a3-42a4-81ee-b4dd41fa8042",
   "metadata": {},
   "outputs": [],
   "source": [
    "## Example null distributions\n",
    "\n",
    "# any_null_dist = stats.t(df=26, loc=0, scale=1)\n",
    "# any_null_dist = stats.norm(loc=0.5, scale=3)\n",
    "\n",
    "any_null_dist = stats.chi2(df=3, loc=0, scale=1)"
   ]
  },
  {
   "cell_type": "code",
   "execution_count": null,
   "id": "178eed12-f8ef-41c3-be93-82fd95e23b3a",
   "metadata": {},
   "outputs": [],
   "source": [
    "## According p values\n",
    "\n",
    "_stat_random = any_null_dist.rvs(size=1000, random_state=0)\n",
    "_pdf_random = any_null_dist.pdf(_stat_random)\n",
    "\n",
    "\n",
    "_pvals_onetail = 1 - any_null_dist.cdf(_stat_random)\n",
    "\n",
    "# two-tailed is only valid for certain null distributions\n",
    "_pvals_twotail = (1 - any_null_dist.cdf(np.abs(_stat_random))) * 2"
   ]
  },
  {
   "cell_type": "markdown",
   "id": "483d1285-aaaf-4b64-91de-c9949b6ad0fb",
   "metadata": {},
   "source": [
    "#### Null distribution (of test statistic)"
   ]
  },
  {
   "cell_type": "code",
   "execution_count": null,
   "id": "450fb2bc-ee5f-428a-82e2-23559304b5db",
   "metadata": {},
   "outputs": [],
   "source": [
    "# Null distribution\n",
    "\n",
    "plt.plot(_stat_random, _pdf_random, 'o')\n",
    "plt.xlabel('test statistic')\n",
    "plt.ylabel('Probability density function')\n",
    "plt.show()"
   ]
  },
  {
   "cell_type": "markdown",
   "id": "e2c9d3e3-9dcf-4d64-9212-455db7afddb7",
   "metadata": {},
   "source": [
    "#### Null distribution of p value"
   ]
  },
  {
   "cell_type": "code",
   "execution_count": null,
   "id": "83565a86-2dae-4770-83a7-f485da81a0c7",
   "metadata": {},
   "outputs": [],
   "source": [
    "plt.hist(_pvals_onetail, bins=20)\n",
    "plt.xlabel('One-tailed p value')\n",
    "plt.ylabel('Freuquency')\n",
    "plt.title('Distribution of p value under the null hypothesis')\n",
    "plt.show()"
   ]
  },
  {
   "cell_type": "code",
   "execution_count": null,
   "id": "38cbf69c-b59e-4758-835b-8f8e5285c824",
   "metadata": {},
   "outputs": [],
   "source": [
    "plt.hist(_pvals_twotail, bins=20)\n",
    "plt.xlabel('Two-tailed p value')\n",
    "plt.ylabel('Freuquency')\n",
    "plt.title('Distribution of p value under the null hypothesis')\n",
    "plt.show()"
   ]
  },
  {
   "cell_type": "code",
   "execution_count": null,
   "id": "75da585c-4ec3-4b27-a5a9-8c38abe587c7",
   "metadata": {},
   "outputs": [],
   "source": []
  },
  {
   "cell_type": "markdown",
   "id": "6cf1e79c-e599-4d19-bcbb-62bd7e8218d9",
   "metadata": {},
   "source": [
    "### Minimal p values in 10 tests"
   ]
  },
  {
   "cell_type": "code",
   "execution_count": null,
   "id": "a91c73b4-921f-4991-b817-27ca2f5f65a4",
   "metadata": {},
   "outputs": [],
   "source": [
    "p_min_in10 = np.min(_pvals_onetail.reshape(10, -1), axis=0)"
   ]
  },
  {
   "cell_type": "code",
   "execution_count": null,
   "id": "dd21343f-11d5-48cf-aaaa-c408590b7fcc",
   "metadata": {},
   "outputs": [],
   "source": [
    "plt.hist(p_min_in10, bins=20)\n",
    "plt.axvline(x=0.05, color='r')\n",
    "plt.xlabel('One-tailed p value (minimal in 10 tests)')\n",
    "plt.ylabel('Freuquency')\n",
    "plt.title('Distribution of min p value in 10 tests')\n",
    "plt.show()"
   ]
  },
  {
   "cell_type": "code",
   "execution_count": null,
   "id": "38b34de5-dc78-431b-bae6-2715c1f64760",
   "metadata": {},
   "outputs": [],
   "source": [
    "print('%.2f of tests with min(p) < 0.05' %np.mean(p_min_in10 < 0.05))"
   ]
  },
  {
   "cell_type": "code",
   "execution_count": null,
   "id": "fc6489d8-98e5-4f30-bb22-a1ad428160ae",
   "metadata": {},
   "outputs": [],
   "source": []
  },
  {
   "cell_type": "markdown",
   "id": "a24e838d-cfbb-4240-bf25-9db69892085b",
   "metadata": {},
   "source": [
    "## Power analysis"
   ]
  },
  {
   "cell_type": "markdown",
   "id": "6c1b5c9e-7ebd-4e36-ac6a-f35ff3cff8df",
   "metadata": {},
   "source": [
    "### Relationship beteween power other factors"
   ]
  },
  {
   "cell_type": "code",
   "execution_count": null,
   "id": "44439be7-bcd9-4308-86d4-3f5bf84df868",
   "metadata": {},
   "outputs": [],
   "source": [
    "def power_analysis(n_sample, effect_size, alpha=0.05):\n",
    "    _n_obs = n_sample * 2\n",
    "#     nobs = 1./ (1. / n_sample + 1. / n_sample)\n",
    "#     _eff_loc = effect_size * np.sqrt(nobs)\n",
    "    _eff_loc = effect_size / np.sqrt(2 / n_sample)\n",
    "    # print(_eff_loc)\n",
    "\n",
    "    _null_distr = stats.t(df=_n_obs - 2)\n",
    "    _eff_distr = stats.t(loc=_eff_loc, df=_n_obs - 2)\n",
    "\n",
    "    _xx = np.arange(-3, 3, 0.01)\n",
    "    _yy_null = _null_distr.pdf(_xx)\n",
    "    _yy_eff = _eff_distr.pdf(_xx)\n",
    "\n",
    "    _stat_threshold = _null_distr.ppf(1 - alpha)\n",
    "    _power = 1 - _eff_distr.cdf(_stat_threshold)\n",
    "    \n",
    "    plt.plot(_xx, _yy_null, label='Null')\n",
    "    plt.plot(_xx, _yy_eff, label='Test statistic')\n",
    "    # plt.axvline(x=_eff_loc, color='g')\n",
    "    plt.axvline(x=_stat_threshold, color='r', label='Alpha=0.05')\n",
    "    plt.xlabel('test statistic')\n",
    "    plt.ylabel('Probability density function')\n",
    "    plt.title('Power: %.3f with sample size=%d' %(_power, n_sample))\n",
    "    plt.legend()\n",
    "    \n",
    "    return _power"
   ]
  },
  {
   "cell_type": "code",
   "execution_count": null,
   "id": "bbc5094b-cf28-4d56-8e58-d0275764d356",
   "metadata": {},
   "outputs": [],
   "source": [
    "n_samples = np.array([3, 5, 15, 40])\n",
    "effect_sizes = np.array([0.6, 1.2])"
   ]
  },
  {
   "cell_type": "code",
   "execution_count": null,
   "id": "acd5f7ff-3976-44de-8241-89d40f621b4a",
   "metadata": {},
   "outputs": [],
   "source": [
    "# sample size (each group): 3\n",
    "# effect size (standardised): 0.6\n",
    "# siginficance level (alpha): 0.05\n",
    "\n",
    "fig = plt.figure(dpi=100)\n",
    "power_analysis(n_samples[0], effect_sizes[0])\n",
    "plt.show()"
   ]
  },
  {
   "cell_type": "code",
   "execution_count": null,
   "id": "76e666b3-033f-416d-b21f-9ea4b3a180de",
   "metadata": {},
   "outputs": [],
   "source": [
    "fig = plt.figure(figsize=(16, 7))\n",
    "for i in range(len(n_samples)):\n",
    "    for j in range(len(effect_sizes)):\n",
    "        plt.subplot(2, 4, j*4+i+1)\n",
    "        power_analysis(n_samples[i], effect_sizes[j])\n",
    "        \n",
    "plt.tight_layout()\n",
    "plt.show()"
   ]
  },
  {
   "cell_type": "markdown",
   "id": "3db9a2fc-1e65-4258-ba05-56f730809477",
   "metadata": {},
   "source": [
    "### Calculate power with statsmodels\n",
    "\n",
    "https://www.statsmodels.org/dev/generated/statsmodels.stats.power.TTestIndPower.html"
   ]
  },
  {
   "cell_type": "code",
   "execution_count": null,
   "id": "36f951d8-841c-4e7f-a58f-edd49370e9ff",
   "metadata": {},
   "outputs": [],
   "source": [
    "from statsmodels.stats.power import TTestIndPower\n",
    "\n",
    "analysis = TTestIndPower()\n",
    "analysis.power(effect_size = 0.6, nobs1=3, \n",
    "               alpha=0.05, alternative='smaller')"
   ]
  },
  {
   "cell_type": "code",
   "execution_count": null,
   "id": "b1cc9c5a-10d7-49a7-8207-6b4a78c2e7cb",
   "metadata": {},
   "outputs": [],
   "source": []
  },
  {
   "cell_type": "markdown",
   "id": "8498555b-e824-49f4-810a-9e6982c42bd9",
   "metadata": {},
   "source": [
    "### Estimate required minimum sample size"
   ]
  },
  {
   "cell_type": "code",
   "execution_count": null,
   "id": "15a3f3fc-7e43-483f-aa75-cc3fb39c89ee",
   "metadata": {},
   "outputs": [],
   "source": [
    "from statsmodels.stats.power import TTestIndPower"
   ]
  },
  {
   "cell_type": "code",
   "execution_count": null,
   "id": "3b3292e1-6fe3-48cd-9fe9-cfee88cb54b6",
   "metadata": {},
   "outputs": [],
   "source": [
    "# parameters for power analysis\n",
    "\n",
    "# population standard deviation\n",
    "# pop_std = 0.162\n",
    "\n",
    "standard_effect = 0.1 / 0.162\n",
    "# standard_effect = 0.52 / 0.162\n",
    "print('Standardised effect size: %.3f' %(standard_effect))\n",
    "\n",
    "alpha = 0.05\n",
    "power = 0.9\n",
    "\n",
    "# perform power analysis\n",
    "analysis = TTestIndPower()\n",
    "result = analysis.solve_power(effect_size = standard_effect, \n",
    "                              power=power, nobs1=None, \n",
    "                              alpha=alpha, alternative='larger')\n",
    "\n",
    "print('Required sample Size: %d' % np.ceil(result))"
   ]
  },
  {
   "cell_type": "code",
   "execution_count": null,
   "id": "b15b6782-4e4c-4007-b335-0e6bdce0f548",
   "metadata": {},
   "outputs": [],
   "source": []
  }
 ],
 "metadata": {
  "kernelspec": {
   "display_name": "Python 3",
   "language": "python",
   "name": "python3"
  },
  "language_info": {
   "codemirror_mode": {
    "name": "ipython",
    "version": 3
   },
   "file_extension": ".py",
   "mimetype": "text/x-python",
   "name": "python",
   "nbconvert_exporter": "python",
   "pygments_lexer": "ipython3",
   "version": "3.8.8"
  }
 },
 "nbformat": 4,
 "nbformat_minor": 5
}
