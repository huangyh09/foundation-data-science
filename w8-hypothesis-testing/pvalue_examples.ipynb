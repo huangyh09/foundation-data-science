{
 "cells": [
  {
   "cell_type": "markdown",
   "id": "79231bae-7b07-48ca-8f2c-fa26540c3db1",
   "metadata": {},
   "source": [
    "# Hypothesis testing and *p* value"
   ]
  },
  {
   "cell_type": "markdown",
   "id": "97bdfbef-df0d-4c84-b705-b07bf051d318",
   "metadata": {},
   "source": [
    "How surprising is my result? Calculating a p-value\n",
    "\n",
    "There are many circumstances where we simply want to check whether an observation looks like it is compatible with the null hypothesis, $H_{0}$.\n",
    "\n",
    "Having decided on a significance level $\\alpha$ and whether the situation warrants a one-tailed or a two-tailed test, we can use the cdf of the null distribution to calculate a p-value for the observation."
   ]
  },
  {
   "cell_type": "markdown",
   "id": "8cfa2124-b332-4d87-8172-6bce484c4aeb",
   "metadata": {},
   "source": [
    "Acknowledgement: examples are from Dr John Pinney [link here](https://github.com/johnpinney/sampling_and_hypothesis_testing/blob/master/python_version/hypothesis_testing_python.html)"
   ]
  },
  {
   "cell_type": "code",
   "execution_count": null,
   "id": "1700f327-9d63-41a5-9cbf-d0e1612c9245",
   "metadata": {},
   "outputs": [],
   "source": [
    "import numpy as np\n",
    "from scipy import stats\n",
    "import matplotlib.pyplot as plt"
   ]
  },
  {
   "cell_type": "markdown",
   "id": "f99b25c7-07f7-4eb2-a427-4b475d5fecff",
   "metadata": {},
   "source": [
    "## Example 1: probability of rolling a six?\n",
    "Your arch-nemesis Blofeld always seems to win at ludo, and you have started to suspect him of using a loaded die.\n",
    "\n",
    "You observe the following outcomes from 100 rolls of his die:"
   ]
  },
  {
   "cell_type": "code",
   "execution_count": null,
   "id": "ee2a0b6c-9939-424b-83ef-3109d15cf302",
   "metadata": {},
   "outputs": [],
   "source": [
    "data = np.array([6, 1, 5, 6, 2, 6, 4, 3, 4, 6, 1, 2, 5, 6, 6, 3, 6, 2, 6, 4, 6, 2,\n",
    "       5, 4, 2, 3, 3, 6, 6, 1, 2, 5, 6, 4, 6, 2, 1, 3, 6, 5, 4, 5, 6, 3,\n",
    "       6, 6, 1, 4, 6, 6, 6, 6, 6, 2, 3, 1, 6, 4, 3, 6, 2, 4, 6, 6, 6, 5,\n",
    "       6, 2, 1, 6, 6, 4, 3, 6, 5, 6, 6, 2, 6, 3, 6, 6, 1, 4, 6, 4, 2, 6,\n",
    "       6, 5, 2, 6, 6, 4, 3, 1, 6, 6, 5, 5])"
   ]
  },
  {
   "cell_type": "markdown",
   "id": "fd23cd5c-ed32-4c2e-8fef-39234fbeb2a6",
   "metadata": {},
   "source": [
    "Do you have enough evidence to confront him?"
   ]
  },
  {
   "cell_type": "code",
   "execution_count": null,
   "id": "854ffe13-8331-45d5-9c79-19938530c635",
   "metadata": {},
   "outputs": [],
   "source": [
    "# We will work with the binomial distribution for the observed number of sixes\n",
    "\n",
    "# Write down the hypotheses\n",
    "# H0: p = 1/6\n",
    "# H1: p > 1/6\n",
    "\n",
    "# choose a significance level\n",
    "# alpha = 0.01"
   ]
  },
  {
   "cell_type": "code",
   "execution_count": null,
   "id": "fa0bb5a3-6a23-4894-ad04-e9135e04ade9",
   "metadata": {},
   "outputs": [],
   "source": [
    "# number of sixes\n",
    "# number of trials\n",
    "\n",
    "_stat_k = sum(data == 6)\n",
    "_trials = len(data)\n",
    "\n",
    "print(\"number of sixes: %d\" %_stat_k)\n",
    "print(\"number of trials: %d\" %_trials)"
   ]
  },
  {
   "cell_type": "code",
   "execution_count": null,
   "id": "777f9672-2a30-4775-902e-081bc9ab53d5",
   "metadata": {},
   "outputs": [],
   "source": [
    "# test statistic: number of sixes out of 100 trials\n",
    "# null distribution: binomial(k, n=100, p=1/6)\n",
    "# calculate p value\n",
    "\n",
    "p_val = 1 - stats.binom.cdf(_stat_k - 1, n=_trials, p=1/6)\n",
    "\n",
    "print(\"Observed statistic is %d\" %_stat_k)\n",
    "print(\"p value is %.3e\" %p_val)"
   ]
  },
  {
   "cell_type": "markdown",
   "id": "dec39e25-77d2-4661-a361-17fcc3323d5a",
   "metadata": {},
   "source": [
    "#### Visualize the null distribution and the test statistic"
   ]
  },
  {
   "cell_type": "code",
   "execution_count": null,
   "id": "f81cfc9c-8632-4f9b-b63b-73cbdd836918",
   "metadata": {},
   "outputs": [],
   "source": [
    "# plot the probability mass function of null distribution\n",
    "\n",
    "x = np.arange(101)\n",
    "_pmf = stats.binom.pmf(x, n=100, p=1/6)\n",
    "\n",
    "fig = plt.figure(dpi=70)\n",
    "x = np.arange(43)\n",
    "_pmf = stats.binom.pmf(x, n=100, p=1/6)\n",
    "plt.plot(x, _pmf, 'ko', ms=1)\n",
    "plt.vlines(x, 0, _pmf, colors='k', lw=0.1)\n",
    "\n",
    "x = np.arange(43, 101)\n",
    "_pmf = stats.binom.pmf(x, n=100, p=1/6)\n",
    "plt.plot(x, _pmf, 'ro', ms=1)\n",
    "plt.vlines(x, 0, _pmf, colors='r', lw=0.1)\n",
    "plt.xlabel('Number of sixes')\n",
    "plt.ylabel('Probability Mass Function')\n",
    "plt.title('Distribution of n_six under the null hypothesis')\n",
    "plt.show()"
   ]
  },
  {
   "cell_type": "code",
   "execution_count": null,
   "id": "765235eb-493f-419e-9c48-c0375c7209b8",
   "metadata": {},
   "outputs": [],
   "source": []
  },
  {
   "cell_type": "markdown",
   "id": "eb9fb0b9-e2ff-4896-8d4a-7f2ead4bb3c3",
   "metadata": {},
   "source": [
    "## Example 2: difference in birth weight\n",
    "\n",
    "The birth weights of babies (in kg) have been measured for a sample of mothers split into two categories: nonsmoking and heavy smoking.\n",
    "\n",
    "* The two categories are measured independently from each other.\n",
    "* Both come from normal distributions\n",
    "* The two groups are assumed to have the same unknown variance."
   ]
  },
  {
   "cell_type": "code",
   "execution_count": null,
   "id": "113480e8-0c2d-4366-a2e9-cbd816b4710f",
   "metadata": {},
   "outputs": [],
   "source": [
    "data_heavysmoking = np.array([3.18, 2.84, 2.90, 3.27, 3.85, 3.52, 3.23, 2.76, \n",
    "                              3.60, 3.75, 3.59, 3.63, 2.38, 2.34, 2.44]) \n",
    "data_nonsmoking   = np.array([3.99, 3.79, 3.60, 3.73, 3.21, 3.60, 4.08, 3.61, \n",
    "                              3.83, 3.31, 4.13, 3.26, 3.54])"
   ]
  },
  {
   "cell_type": "markdown",
   "id": "c8df3e02-f7f1-4856-b3df-38f4a45c8e28",
   "metadata": {},
   "source": [
    "We want to know whether there is a significant difference in mean birth weight between the two categories."
   ]
  },
  {
   "cell_type": "code",
   "execution_count": null,
   "id": "77689d27-d81d-4b1c-bcb0-7a6317a31ca4",
   "metadata": {},
   "outputs": [],
   "source": [
    "# Write down the hypotheses\n",
    "# H0: there is no difference in mean birth weight between groups: d == 0\n",
    "# H1: there is a difference, d != 0\n",
    "\n",
    "# choose a significance level\n",
    "# alpha = 0.05"
   ]
  },
  {
   "cell_type": "code",
   "execution_count": null,
   "id": "7018cf5d-4b19-465f-9ed4-12a9f729b164",
   "metadata": {},
   "outputs": [],
   "source": [
    "# Define test statistic: difference of group mean\n",
    "\n",
    "_stat_mu = data_heavysmoking.mean() - data_nonsmoking.mean()\n",
    "_stat_mu"
   ]
  },
  {
   "cell_type": "markdown",
   "id": "73facd87-8c19-46aa-bda5-3a45fc5ea03d",
   "metadata": {},
   "source": [
    "### Permutation test: null distribution approximated by resampling"
   ]
  },
  {
   "cell_type": "code",
   "execution_count": null,
   "id": "e8779188-14fc-47c4-b436-d59e931b3e5c",
   "metadata": {},
   "outputs": [],
   "source": [
    "def get_permutation_null(x1, x2, n_permute=1000):\n",
    "    \"\"\"Simple function to generate permutation distribution\n",
    "    \"\"\"\n",
    "    _n1, _n2 = len(x1), len(x2)\n",
    "    x_pool = np.append(x1, x2)\n",
    "    \n",
    "    RV = np.zeros(n_permute)\n",
    "    for i in range(n_permute):\n",
    "        _x_perm = np.random.permutation(x_pool)\n",
    "        RV[i] = _x_perm[:_n1].mean() - _x_perm[_n1:].mean()\n",
    "    return RV"
   ]
  },
  {
   "cell_type": "code",
   "execution_count": null,
   "id": "33604847-13ab-460a-b307-cde3ccd90435",
   "metadata": {},
   "outputs": [],
   "source": [
    "np.random.seed(10)\n",
    "null_distr = get_permutation_null(data_heavysmoking, data_nonsmoking)"
   ]
  },
  {
   "cell_type": "code",
   "execution_count": null,
   "id": "5ef4872f-ce39-4748-8ce2-d41a2f5cd050",
   "metadata": {},
   "outputs": [],
   "source": [
    "fig = plt.figure(dpi=70)\n",
    "plt.hist(null_distr, bins=20)\n",
    "plt.axvline(x=_stat_mu, color='tab:orange', ls='--')\n",
    "plt.axvline(x=-_stat_mu, color='tab:orange', ls='--')\n",
    "plt.xlabel('Difference of group mean')\n",
    "plt.ylabel('Resampling frequency')\n",
    "plt.title('Distribution of $\\mu$ under the null hypothesis')\n",
    "plt.show()"
   ]
  },
  {
   "cell_type": "code",
   "execution_count": null,
   "id": "1b9943de-9e97-400f-8cdf-d822a3089a31",
   "metadata": {},
   "outputs": [],
   "source": [
    "## Two tailed p value\n",
    "p_two_tailed = np.mean(np.abs(null_distr) >= np.abs(_stat_mu))\n",
    "p_one_tailed = np.mean(null_distr < _stat_mu)\n",
    "\n",
    "print(\"Two tailed p value: %.4f\" %p_two_tailed)\n",
    "print(\"One (left) tailed p value: %.4f\" %p_one_tailed)"
   ]
  },
  {
   "cell_type": "code",
   "execution_count": null,
   "id": "6a6927ca-a438-48f6-b045-bbbe462864ab",
   "metadata": {},
   "outputs": [],
   "source": []
  },
  {
   "cell_type": "markdown",
   "id": "0aee4ddf-064d-43bf-9329-9c68b2703f07",
   "metadata": {},
   "source": [
    "### *t* test: null distribution approximated by *t* distribution\n",
    "\n",
    "\n",
    "We use the t test to assess whether two samples taken from normal distributions have significantly different means.\n",
    "\n",
    "The test statistic follows a Student's t-distribution, provided that the variances of the two groups are equal.\n",
    "\n",
    "Other variants of the t-test are applicable under different conditions.\n",
    "\n",
    "The test statistic is\n",
    "$$ t = \\frac{\\bar{X}_{1} - \\bar{X}_{2}}{s_p \\cdot \\sqrt{\\frac{1}{n_{1}} + \\frac{1}{n_{2}}}} $$\n",
    "\n",
    "where\n",
    "$$ s_p = \\sqrt{\\frac{(n_1 - 1)s_1^2 + (n_2 - 1)s_2^2}{n_1 + n_2 - 2}} $$\n",
    "\n",
    "is an estimator of the pooled standard deviation.\n",
    "\n",
    "Under the null hypothesis of equal means, the statistic follows a Student's t-distribution with $(n_{1} + n_{2} - 2)$ degrees of freedom.\n"
   ]
  },
  {
   "cell_type": "code",
   "execution_count": null,
   "id": "9d869202-7d19-4d1d-ad22-64b3efa8072c",
   "metadata": {},
   "outputs": [],
   "source": [
    "# Same test statistic: difference of group mean\n",
    "\n",
    "_stat_t = data_heavysmoking.mean() - data_nonsmoking.mean()\n",
    "\n",
    "_stat_t"
   ]
  },
  {
   "cell_type": "markdown",
   "id": "276dbf64-1678-4fec-999d-145a0318f47a",
   "metadata": {},
   "source": [
    "Calculate parameters for approximate t distribution"
   ]
  },
  {
   "cell_type": "code",
   "execution_count": null,
   "id": "91f13722-8cbc-43dd-a841-ebd99c2063f1",
   "metadata": {},
   "outputs": [],
   "source": [
    "n_ns = len(data_nonsmoking)\n",
    "n_hs = len(data_heavysmoking)\n",
    "\n",
    "s_ns = np.std(data_nonsmoking, ddof=1)\n",
    "s_hs = np.std(data_heavysmoking, ddof=1)\n",
    "\n",
    "# the pooled standard deviation\n",
    "sp = np.sqrt(((n_ns - 1)*s_ns**2 + (n_hs - 1)*s_hs**2) / (n_ns + n_hs - 2))\n",
    "print(\"Pooled standard deviation: %.3f\" %sp)\n",
    "\n",
    "_std = sp * np.sqrt(1/n_ns + 1/n_hs)\n",
    "print(\"Estimated standard error of mean difference: %.3f\" %_std)"
   ]
  },
  {
   "cell_type": "code",
   "execution_count": null,
   "id": "5177ca42-4781-4387-a916-b789a0cc72dc",
   "metadata": {},
   "outputs": [],
   "source": [
    "_xx = np.arange(-0.8, 0.8, 0.01)\n",
    "_pdf = stats.t.pdf(_xx, df=n_hs+n_ns-2, loc=0, scale=_std)\n",
    "\n",
    "fig = plt.figure(dpi=70)\n",
    "plt.plot(_xx, _pdf)\n",
    "plt.axvline(x=_stat_t, color='tab:orange', ls='--')\n",
    "plt.axvline(x=-_stat_t, color='tab:orange', ls='--')\n",
    "plt.xlabel('Difference of group mean')\n",
    "plt.ylabel('PDF approximated by t distr.')\n",
    "plt.title('Distribution of $\\mu$ under the null hypothesis')\n",
    "plt.show()"
   ]
  },
  {
   "cell_type": "code",
   "execution_count": null,
   "id": "4228cc29-9f3c-481e-a967-bbdf694bf326",
   "metadata": {},
   "outputs": [],
   "source": [
    "print('t-test p value (two-tailed):')\n",
    "stats.t.cdf(_stat_t, df=n_hs+n_ns-2, loc=0, scale=_std) * 2"
   ]
  },
  {
   "cell_type": "code",
   "execution_count": null,
   "id": "f261eea4-e59e-45e3-b7ef-23268bf353fe",
   "metadata": {},
   "outputs": [],
   "source": []
  },
  {
   "cell_type": "markdown",
   "id": "d5262278-7145-43d0-b836-df834d1b51a0",
   "metadata": {},
   "source": [
    "#### Equivalent to nomalised *t* statistic"
   ]
  },
  {
   "cell_type": "code",
   "execution_count": null,
   "id": "3cb99b1a-4255-4d87-9bfe-b7fb04b7f801",
   "metadata": {},
   "outputs": [],
   "source": [
    "_xx = np.arange(-0.8/_std, 0.8/_std, 0.01)\n",
    "_pdf = stats.t.pdf(_xx, df=n_hs+n_ns-2, loc=0, scale=1)\n",
    "\n",
    "fig = plt.figure(dpi=70)\n",
    "plt.plot(_xx, _pdf)\n",
    "plt.axvline(x=_stat_t/_std, color='tab:orange', ls='--')\n",
    "plt.axvline(x=-_stat_t/_std, color='tab:orange', ls='--')\n",
    "plt.xlabel('Difference of group mean')\n",
    "plt.ylabel('PDF approximated by t distr.')\n",
    "plt.title('Distribution of $\\mu$ under the null hypothesis')\n",
    "plt.show()"
   ]
  },
  {
   "cell_type": "code",
   "execution_count": null,
   "id": "ace592bb-049b-46d5-b511-e8f905122266",
   "metadata": {},
   "outputs": [],
   "source": [
    "# test statistic: mean_diff / standard_error\n",
    "# null distribution: standard t distribution\n",
    "\n",
    "print('t-test p value (two-tailed):')\n",
    "stats.t.cdf(_stat_t/_std, df=n_hs+n_ns-2, loc=0, scale=1) * 2"
   ]
  },
  {
   "cell_type": "code",
   "execution_count": null,
   "id": "cd9319e6-bac5-456c-b31c-07344ebf98b1",
   "metadata": {},
   "outputs": [],
   "source": []
  },
  {
   "cell_type": "markdown",
   "id": "847d53f9-d03f-4155-90b8-c8c221524bfc",
   "metadata": {},
   "source": [
    "#### Direct use of ``scipy.stats.ttest_ind``\n",
    "\n",
    "In your future analysis, you can directly use this ``scipy`` function."
   ]
  },
  {
   "cell_type": "code",
   "execution_count": null,
   "id": "a6b8f945-91e0-433e-aae9-a5c629e7c5a7",
   "metadata": {},
   "outputs": [],
   "source": [
    "stats.ttest_ind(data_nonsmoking, data_heavysmoking)"
   ]
  },
  {
   "cell_type": "code",
   "execution_count": null,
   "id": "aadd7f62-43ad-4112-91c7-eb9994c3f2a4",
   "metadata": {},
   "outputs": [],
   "source": []
  }
 ],
 "metadata": {
  "kernelspec": {
   "display_name": "Python 3",
   "language": "python",
   "name": "python3"
  },
  "language_info": {
   "codemirror_mode": {
    "name": "ipython",
    "version": 3
   },
   "file_extension": ".py",
   "mimetype": "text/x-python",
   "name": "python",
   "nbconvert_exporter": "python",
   "pygments_lexer": "ipython3",
   "version": "3.8.8"
  }
 },
 "nbformat": 4,
 "nbformat_minor": 5
}
