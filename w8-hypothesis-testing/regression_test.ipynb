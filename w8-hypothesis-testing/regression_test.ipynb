{
 "cells": [
  {
   "cell_type": "markdown",
   "id": "9ba5cbb4-fff5-4e81-9b01-1c43198939f8",
   "metadata": {},
   "source": [
    "# Regression-based test"
   ]
  },
  {
   "cell_type": "code",
   "execution_count": null,
   "id": "6d9fb618-7b66-426c-93e4-b87d22742e55",
   "metadata": {},
   "outputs": [],
   "source": [
    "import numpy as np\n",
    "import pandas as pd\n",
    "from scipy import stats\n",
    "import statsmodels.api as sm\n",
    "\n",
    "import seaborn as sns\n",
    "import matplotlib.pyplot as plt"
   ]
  },
  {
   "cell_type": "code",
   "execution_count": null,
   "id": "01f38440-c545-440e-8007-1481e0bdbfc6",
   "metadata": {},
   "outputs": [],
   "source": [
    "file_url = 'https://raw.githubusercontent.com/huangyh09/foundation-data-science/main/w8-hypothesis-testing/marketing.csv'\n",
    "df = pd.read_csv(file_url)\n",
    "df['constant'] = 1"
   ]
  },
  {
   "cell_type": "code",
   "execution_count": null,
   "id": "72fabe3d-7491-4ce3-9487-c51d792b991f",
   "metadata": {},
   "outputs": [],
   "source": [
    "df.head()"
   ]
  },
  {
   "cell_type": "code",
   "execution_count": null,
   "id": "8058514a-b366-4bdc-9f08-cac11589c906",
   "metadata": {},
   "outputs": [],
   "source": [
    "sns.regplot(x='newspaper', y='sales', data=df)"
   ]
  },
  {
   "cell_type": "code",
   "execution_count": null,
   "id": "c05ecffa-f113-4463-98bb-49385b9d991d",
   "metadata": {},
   "outputs": [],
   "source": []
  },
  {
   "cell_type": "markdown",
   "id": "ad2abccc-13da-4e82-b0b4-b57de78be457",
   "metadata": {},
   "source": [
    "## Wald test (t test on coefficient)"
   ]
  },
  {
   "cell_type": "code",
   "execution_count": null,
   "id": "9ed087fa-3f21-4fff-ab44-4a7132031a51",
   "metadata": {},
   "outputs": [],
   "source": [
    "# Fit and summarize OLS model\n",
    "Y = df['sales']\n",
    "X0 = df[['constant']]\n",
    "X1 = df[['constant', 'newspaper']]\n",
    "\n",
    "mod1 = sm.OLS(Y, X1)\n",
    "res1 = mod1.fit()"
   ]
  },
  {
   "cell_type": "code",
   "execution_count": null,
   "id": "3a123583-ddac-4fa6-8501-9bf84241f9a7",
   "metadata": {},
   "outputs": [],
   "source": [
    "print(res1.summary())"
   ]
  },
  {
   "cell_type": "code",
   "execution_count": null,
   "id": "6e8499a8-a5a6-404c-91c2-3aa607c05b24",
   "metadata": {},
   "outputs": [],
   "source": [
    "# test statistic: 3.3\n",
    "# degree of freedom: 198\n",
    "\n",
    "# two tailed p value\n",
    "(1 - stats.t.cdf(3.3, df=198)) * 2"
   ]
  },
  {
   "cell_type": "code",
   "execution_count": null,
   "id": "1ddec3b7-9b41-43b6-be69-c328d1a3a910",
   "metadata": {},
   "outputs": [],
   "source": []
  },
  {
   "cell_type": "markdown",
   "id": "79e46f3b-6429-46ef-99b4-0f4596a78b6b",
   "metadata": {},
   "source": [
    "## Likelihood ratio test"
   ]
  },
  {
   "cell_type": "code",
   "execution_count": null,
   "id": "c075d2b9-fb6a-4c01-ac88-7a6bb721b871",
   "metadata": {},
   "outputs": [],
   "source": [
    "# Fit and summarize OLS model\n",
    "Y = df['sales']\n",
    "X0 = df[['constant']]\n",
    "\n",
    "mod0 = sm.OLS(Y, X0)\n",
    "res0 = mod0.fit()"
   ]
  },
  {
   "cell_type": "code",
   "execution_count": null,
   "id": "fcd9d1b6-f65e-411c-9a74-86986ff0938b",
   "metadata": {},
   "outputs": [],
   "source": [
    "print(res0.summary())"
   ]
  },
  {
   "cell_type": "code",
   "execution_count": null,
   "id": "6db0d6d3-afc4-47ca-bd1b-8c96102b29f4",
   "metadata": {},
   "outputs": [],
   "source": [
    "# test statistic\n",
    "\n",
    "_lambda = - 2 * (res0.llf - res1.llf)\n",
    "_lambda"
   ]
  },
  {
   "cell_type": "code",
   "execution_count": null,
   "id": "b3acc672-2f97-4317-a122-431d63f41a34",
   "metadata": {},
   "outputs": [],
   "source": [
    "# p value (one-tailed)\n",
    "\n",
    "1 - stats.chi2.cdf(_lambda, df=1)"
   ]
  },
  {
   "cell_type": "code",
   "execution_count": null,
   "id": "e24f0754-55fb-4e3b-b63f-23308b5a391b",
   "metadata": {},
   "outputs": [],
   "source": []
  },
  {
   "cell_type": "markdown",
   "id": "5e52131e-13dd-4cf6-8ed2-17253a93d132",
   "metadata": {},
   "source": [
    "## Condition on other featues"
   ]
  },
  {
   "cell_type": "code",
   "execution_count": null,
   "id": "e222dce7-3b16-4fb7-a9b7-636aaf4d130f",
   "metadata": {},
   "outputs": [],
   "source": [
    "Y = df['sales']\n",
    "X2 = df[['constant', 'newspaper', 'facebook']]\n",
    "\n",
    "mod2 = sm.OLS(Y, X2)\n",
    "res2 = mod2.fit()"
   ]
  },
  {
   "cell_type": "code",
   "execution_count": null,
   "id": "58c0a4ed-f46b-4ed4-9493-d908d9e5569b",
   "metadata": {},
   "outputs": [],
   "source": [
    "print(res1.summary())"
   ]
  },
  {
   "cell_type": "code",
   "execution_count": null,
   "id": "b45a1b3d-4fcd-418c-b048-4fec0d50db00",
   "metadata": {},
   "outputs": [],
   "source": []
  }
 ],
 "metadata": {
  "kernelspec": {
   "display_name": "Python 3",
   "language": "python",
   "name": "python3"
  },
  "language_info": {
   "codemirror_mode": {
    "name": "ipython",
    "version": 3
   },
   "file_extension": ".py",
   "mimetype": "text/x-python",
   "name": "python",
   "nbconvert_exporter": "python",
   "pygments_lexer": "ipython3",
   "version": "3.8.8"
  }
 },
 "nbformat": 4,
 "nbformat_minor": 5
}
