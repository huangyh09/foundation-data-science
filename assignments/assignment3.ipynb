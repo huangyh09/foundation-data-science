{
 "cells": [
  {
   "cell_type": "markdown",
   "id": "160cc4dd-e3aa-4dab-8784-b50f89c5ee4e",
   "metadata": {},
   "source": [
    "# STAT1005 - Assignment 3\n",
    "\n",
    "* Name: \n",
    "* Student ID:"
   ]
  },
  {
   "cell_type": "code",
   "execution_count": 1,
   "id": "43bab5d6-7323-47ad-897c-b5167e65c957",
   "metadata": {},
   "outputs": [],
   "source": [
    "import numpy as np\n",
    "import pandas as pd\n",
    "import seaborn as sns\n",
    "import matplotlib.pyplot as plt"
   ]
  },
  {
   "cell_type": "markdown",
   "id": "4e60f3a8-0ccf-4bd8-8787-f0becbb6ef30",
   "metadata": {},
   "source": [
    "## 1. Regression\n",
    "\n",
    "### Load dataset"
   ]
  },
  {
   "cell_type": "code",
   "execution_count": 2,
   "id": "54b98505-d9c0-49f3-9917-9e63bd10ec9d",
   "metadata": {},
   "outputs": [],
   "source": [
    "# dat_dir = './'\n",
    "\n",
    "github_url = 'https://raw.githubusercontent.com/huangyh09/foundation-data-science/'\n",
    "dat_dir = github_url + 'main/assignments/'\n",
    "\n",
    "df_reg = pd.read_csv(dat_dir + \"real_estate.csv\", index_col=0)"
   ]
  },
  {
   "cell_type": "code",
   "execution_count": 3,
   "id": "bfd4d4c3-2809-465c-8d7a-83b1ed7901ad",
   "metadata": {},
   "outputs": [
    {
     "data": {
      "text/html": [
       "<div>\n",
       "<style scoped>\n",
       "    .dataframe tbody tr th:only-of-type {\n",
       "        vertical-align: middle;\n",
       "    }\n",
       "\n",
       "    .dataframe tbody tr th {\n",
       "        vertical-align: top;\n",
       "    }\n",
       "\n",
       "    .dataframe thead th {\n",
       "        text-align: right;\n",
       "    }\n",
       "</style>\n",
       "<table border=\"1\" class=\"dataframe\">\n",
       "  <thead>\n",
       "    <tr style=\"text-align: right;\">\n",
       "      <th></th>\n",
       "      <th>X1 transaction date</th>\n",
       "      <th>X2 house age</th>\n",
       "      <th>X3 distance to the nearest MRT station</th>\n",
       "      <th>X4 number of convenience stores</th>\n",
       "      <th>X5 latitude</th>\n",
       "      <th>X6 longitude</th>\n",
       "      <th>Y house price of unit area</th>\n",
       "    </tr>\n",
       "    <tr>\n",
       "      <th>No</th>\n",
       "      <th></th>\n",
       "      <th></th>\n",
       "      <th></th>\n",
       "      <th></th>\n",
       "      <th></th>\n",
       "      <th></th>\n",
       "      <th></th>\n",
       "    </tr>\n",
       "  </thead>\n",
       "  <tbody>\n",
       "    <tr>\n",
       "      <th>1</th>\n",
       "      <td>2012.917</td>\n",
       "      <td>32.0</td>\n",
       "      <td>84.87882</td>\n",
       "      <td>10</td>\n",
       "      <td>24.98298</td>\n",
       "      <td>121.54024</td>\n",
       "      <td>37.9</td>\n",
       "    </tr>\n",
       "    <tr>\n",
       "      <th>2</th>\n",
       "      <td>2012.917</td>\n",
       "      <td>19.5</td>\n",
       "      <td>306.59470</td>\n",
       "      <td>9</td>\n",
       "      <td>24.98034</td>\n",
       "      <td>121.53951</td>\n",
       "      <td>42.2</td>\n",
       "    </tr>\n",
       "    <tr>\n",
       "      <th>3</th>\n",
       "      <td>2013.583</td>\n",
       "      <td>13.3</td>\n",
       "      <td>561.98450</td>\n",
       "      <td>5</td>\n",
       "      <td>24.98746</td>\n",
       "      <td>121.54391</td>\n",
       "      <td>47.3</td>\n",
       "    </tr>\n",
       "    <tr>\n",
       "      <th>4</th>\n",
       "      <td>2013.500</td>\n",
       "      <td>13.3</td>\n",
       "      <td>561.98450</td>\n",
       "      <td>5</td>\n",
       "      <td>24.98746</td>\n",
       "      <td>121.54391</td>\n",
       "      <td>54.8</td>\n",
       "    </tr>\n",
       "    <tr>\n",
       "      <th>5</th>\n",
       "      <td>2012.833</td>\n",
       "      <td>5.0</td>\n",
       "      <td>390.56840</td>\n",
       "      <td>5</td>\n",
       "      <td>24.97937</td>\n",
       "      <td>121.54245</td>\n",
       "      <td>43.1</td>\n",
       "    </tr>\n",
       "    <tr>\n",
       "      <th>...</th>\n",
       "      <td>...</td>\n",
       "      <td>...</td>\n",
       "      <td>...</td>\n",
       "      <td>...</td>\n",
       "      <td>...</td>\n",
       "      <td>...</td>\n",
       "      <td>...</td>\n",
       "    </tr>\n",
       "    <tr>\n",
       "      <th>410</th>\n",
       "      <td>2013.000</td>\n",
       "      <td>13.7</td>\n",
       "      <td>4082.01500</td>\n",
       "      <td>0</td>\n",
       "      <td>24.94155</td>\n",
       "      <td>121.50381</td>\n",
       "      <td>15.4</td>\n",
       "    </tr>\n",
       "    <tr>\n",
       "      <th>411</th>\n",
       "      <td>2012.667</td>\n",
       "      <td>5.6</td>\n",
       "      <td>90.45606</td>\n",
       "      <td>9</td>\n",
       "      <td>24.97433</td>\n",
       "      <td>121.54310</td>\n",
       "      <td>50.0</td>\n",
       "    </tr>\n",
       "    <tr>\n",
       "      <th>412</th>\n",
       "      <td>2013.250</td>\n",
       "      <td>18.8</td>\n",
       "      <td>390.96960</td>\n",
       "      <td>7</td>\n",
       "      <td>24.97923</td>\n",
       "      <td>121.53986</td>\n",
       "      <td>40.6</td>\n",
       "    </tr>\n",
       "    <tr>\n",
       "      <th>413</th>\n",
       "      <td>2013.000</td>\n",
       "      <td>8.1</td>\n",
       "      <td>104.81010</td>\n",
       "      <td>5</td>\n",
       "      <td>24.96674</td>\n",
       "      <td>121.54067</td>\n",
       "      <td>52.5</td>\n",
       "    </tr>\n",
       "    <tr>\n",
       "      <th>414</th>\n",
       "      <td>2013.500</td>\n",
       "      <td>6.5</td>\n",
       "      <td>90.45606</td>\n",
       "      <td>9</td>\n",
       "      <td>24.97433</td>\n",
       "      <td>121.54310</td>\n",
       "      <td>63.9</td>\n",
       "    </tr>\n",
       "  </tbody>\n",
       "</table>\n",
       "<p>414 rows × 7 columns</p>\n",
       "</div>"
      ],
      "text/plain": [
       "     X1 transaction date  X2 house age  \\\n",
       "No                                       \n",
       "1               2012.917          32.0   \n",
       "2               2012.917          19.5   \n",
       "3               2013.583          13.3   \n",
       "4               2013.500          13.3   \n",
       "5               2012.833           5.0   \n",
       "..                   ...           ...   \n",
       "410             2013.000          13.7   \n",
       "411             2012.667           5.6   \n",
       "412             2013.250          18.8   \n",
       "413             2013.000           8.1   \n",
       "414             2013.500           6.5   \n",
       "\n",
       "     X3 distance to the nearest MRT station  X4 number of convenience stores  \\\n",
       "No                                                                             \n",
       "1                                  84.87882                               10   \n",
       "2                                 306.59470                                9   \n",
       "3                                 561.98450                                5   \n",
       "4                                 561.98450                                5   \n",
       "5                                 390.56840                                5   \n",
       "..                                      ...                              ...   \n",
       "410                              4082.01500                                0   \n",
       "411                                90.45606                                9   \n",
       "412                               390.96960                                7   \n",
       "413                               104.81010                                5   \n",
       "414                                90.45606                                9   \n",
       "\n",
       "     X5 latitude  X6 longitude  Y house price of unit area  \n",
       "No                                                          \n",
       "1       24.98298     121.54024                        37.9  \n",
       "2       24.98034     121.53951                        42.2  \n",
       "3       24.98746     121.54391                        47.3  \n",
       "4       24.98746     121.54391                        54.8  \n",
       "5       24.97937     121.54245                        43.1  \n",
       "..           ...           ...                         ...  \n",
       "410     24.94155     121.50381                        15.4  \n",
       "411     24.97433     121.54310                        50.0  \n",
       "412     24.97923     121.53986                        40.6  \n",
       "413     24.96674     121.54067                        52.5  \n",
       "414     24.97433     121.54310                        63.9  \n",
       "\n",
       "[414 rows x 7 columns]"
      ]
     },
     "execution_count": 3,
     "metadata": {},
     "output_type": "execute_result"
    }
   ],
   "source": [
    "df_reg"
   ]
  },
  {
   "cell_type": "code",
   "execution_count": 4,
   "id": "cdb705b1-723d-4c7a-bb4a-34efa0dc596d",
   "metadata": {},
   "outputs": [],
   "source": [
    "X = df_reg[df_reg.columns[:-1]]\n",
    "y = df_reg[df_reg.columns[-1]]"
   ]
  },
  {
   "cell_type": "markdown",
   "id": "637b3325-1f15-4748-95a7-9de600f17bc7",
   "metadata": {},
   "source": [
    "### Q1(a): $R^2$ and non-significant features $p>0.05$"
   ]
  },
  {
   "cell_type": "code",
   "execution_count": 5,
   "id": "64575a55-a8b0-4a9a-b99e-6c58e3661c82",
   "metadata": {},
   "outputs": [],
   "source": [
    "import statsmodels.api as sm"
   ]
  },
  {
   "cell_type": "code",
   "execution_count": null,
   "id": "abd46346-8e52-4f37-9bca-6a20b1712235",
   "metadata": {},
   "outputs": [],
   "source": []
  },
  {
   "cell_type": "markdown",
   "id": "1e69c9e1-1de8-4e4d-b895-a19dd4d0b6ea",
   "metadata": {},
   "source": [
    "### Q1(b): Prediction on training set and Pearson's $R^2$"
   ]
  },
  {
   "cell_type": "code",
   "execution_count": 6,
   "id": "bcad37ee-c5e8-48a3-a3cb-1ae02f82b63d",
   "metadata": {},
   "outputs": [],
   "source": [
    "from scipy import stats\n",
    "# stats.pearsonr"
   ]
  },
  {
   "cell_type": "code",
   "execution_count": null,
   "id": "09b5266a-3d0c-4d6a-9838-f2c89fdeb3f0",
   "metadata": {},
   "outputs": [],
   "source": []
  },
  {
   "cell_type": "markdown",
   "id": "9d6feac8-1f1a-4891-9384-22afb6f57720",
   "metadata": {},
   "source": [
    "### Q1(c): cross-validation"
   ]
  },
  {
   "cell_type": "code",
   "execution_count": 7,
   "id": "bcfb22c3-2d17-49b9-82e6-c5e04d42d0e3",
   "metadata": {},
   "outputs": [],
   "source": [
    "from sklearn.linear_model import LinearRegression\n",
    "from sklearn.model_selection import cross_val_predict"
   ]
  },
  {
   "cell_type": "code",
   "execution_count": null,
   "id": "c4563d94-e6e1-4ad6-b87a-b47c3d711af7",
   "metadata": {},
   "outputs": [],
   "source": []
  },
  {
   "cell_type": "markdown",
   "id": "d6a3a2fa-3802-4995-a30c-0aeb18fe5273",
   "metadata": {},
   "source": [
    "### Q1(d): plot observed and predicted y"
   ]
  },
  {
   "cell_type": "code",
   "execution_count": 8,
   "id": "579eaa98-d7c3-4f66-9208-ba35137e1937",
   "metadata": {},
   "outputs": [],
   "source": [
    "# sns.regplot"
   ]
  },
  {
   "cell_type": "code",
   "execution_count": null,
   "id": "304448e8-2c8f-49c2-8692-8f509ce66b99",
   "metadata": {},
   "outputs": [],
   "source": []
  },
  {
   "cell_type": "markdown",
   "id": "3c812766-bf55-4de8-b66e-5f69d8b6756f",
   "metadata": {},
   "source": [
    "### Q1(e): non-linear transformation"
   ]
  },
  {
   "cell_type": "code",
   "execution_count": 9,
   "id": "1ff43f19-d90d-4c63-b21d-c06e80e18f88",
   "metadata": {},
   "outputs": [],
   "source": [
    "# seaborn.pairplot(df_reg, y_vars=\"Y house price of unit area\") "
   ]
  },
  {
   "cell_type": "code",
   "execution_count": null,
   "id": "f9f0a52d-6f03-45cf-83d9-45ddd74cd048",
   "metadata": {},
   "outputs": [],
   "source": []
  },
  {
   "cell_type": "code",
   "execution_count": null,
   "id": "576240a8-142f-4839-a012-da258eb9e673",
   "metadata": {},
   "outputs": [],
   "source": []
  },
  {
   "cell_type": "markdown",
   "id": "f6ff82ed-5b2b-486c-aca7-8a71d1c580af",
   "metadata": {},
   "source": [
    "## 2. Classification\n",
    "\n",
    "### Load dataset"
   ]
  },
  {
   "cell_type": "code",
   "execution_count": 10,
   "id": "17bbb3d1-a0f5-4de0-9d23-f829a94abfb7",
   "metadata": {},
   "outputs": [],
   "source": [
    "# dat_dir = './'\n",
    "\n",
    "github_url = 'https://raw.githubusercontent.com/huangyh09/foundation-data-science/'\n",
    "dat_dir = github_url + 'main/assignments/'\n",
    "\n",
    "df_clf = pd.read_csv(dat_dir + \"stroke_data.csv\", index_col=0)"
   ]
  },
  {
   "cell_type": "code",
   "execution_count": 11,
   "id": "6eed8630-a7c4-4f55-9075-70df143367e9",
   "metadata": {},
   "outputs": [
    {
     "data": {
      "text/html": [
       "<div>\n",
       "<style scoped>\n",
       "    .dataframe tbody tr th:only-of-type {\n",
       "        vertical-align: middle;\n",
       "    }\n",
       "\n",
       "    .dataframe tbody tr th {\n",
       "        vertical-align: top;\n",
       "    }\n",
       "\n",
       "    .dataframe thead th {\n",
       "        text-align: right;\n",
       "    }\n",
       "</style>\n",
       "<table border=\"1\" class=\"dataframe\">\n",
       "  <thead>\n",
       "    <tr style=\"text-align: right;\">\n",
       "      <th></th>\n",
       "      <th>is_female</th>\n",
       "      <th>age</th>\n",
       "      <th>hypertension</th>\n",
       "      <th>heart_disease</th>\n",
       "      <th>ever_married</th>\n",
       "      <th>Rural_residence</th>\n",
       "      <th>avg_glucose_level</th>\n",
       "      <th>bmi</th>\n",
       "      <th>smoking</th>\n",
       "      <th>stroke</th>\n",
       "    </tr>\n",
       "    <tr>\n",
       "      <th>id</th>\n",
       "      <th></th>\n",
       "      <th></th>\n",
       "      <th></th>\n",
       "      <th></th>\n",
       "      <th></th>\n",
       "      <th></th>\n",
       "      <th></th>\n",
       "      <th></th>\n",
       "      <th></th>\n",
       "      <th></th>\n",
       "    </tr>\n",
       "  </thead>\n",
       "  <tbody>\n",
       "    <tr>\n",
       "      <th>24201</th>\n",
       "      <td>0</td>\n",
       "      <td>33.0</td>\n",
       "      <td>0</td>\n",
       "      <td>0</td>\n",
       "      <td>1</td>\n",
       "      <td>1</td>\n",
       "      <td>93.80</td>\n",
       "      <td>23.9</td>\n",
       "      <td>0</td>\n",
       "      <td>0</td>\n",
       "    </tr>\n",
       "    <tr>\n",
       "      <th>70031</th>\n",
       "      <td>1</td>\n",
       "      <td>71.0</td>\n",
       "      <td>1</td>\n",
       "      <td>0</td>\n",
       "      <td>1</td>\n",
       "      <td>1</td>\n",
       "      <td>195.25</td>\n",
       "      <td>33.3</td>\n",
       "      <td>0</td>\n",
       "      <td>0</td>\n",
       "    </tr>\n",
       "    <tr>\n",
       "      <th>17013</th>\n",
       "      <td>0</td>\n",
       "      <td>78.0</td>\n",
       "      <td>1</td>\n",
       "      <td>0</td>\n",
       "      <td>0</td>\n",
       "      <td>0</td>\n",
       "      <td>113.01</td>\n",
       "      <td>24.0</td>\n",
       "      <td>0</td>\n",
       "      <td>1</td>\n",
       "    </tr>\n",
       "    <tr>\n",
       "      <th>67890</th>\n",
       "      <td>0</td>\n",
       "      <td>77.0</td>\n",
       "      <td>0</td>\n",
       "      <td>1</td>\n",
       "      <td>1</td>\n",
       "      <td>0</td>\n",
       "      <td>102.96</td>\n",
       "      <td>20.9</td>\n",
       "      <td>0</td>\n",
       "      <td>0</td>\n",
       "    </tr>\n",
       "    <tr>\n",
       "      <th>38078</th>\n",
       "      <td>1</td>\n",
       "      <td>82.0</td>\n",
       "      <td>1</td>\n",
       "      <td>1</td>\n",
       "      <td>1</td>\n",
       "      <td>0</td>\n",
       "      <td>73.19</td>\n",
       "      <td>33.5</td>\n",
       "      <td>0</td>\n",
       "      <td>0</td>\n",
       "    </tr>\n",
       "    <tr>\n",
       "      <th>...</th>\n",
       "      <td>...</td>\n",
       "      <td>...</td>\n",
       "      <td>...</td>\n",
       "      <td>...</td>\n",
       "      <td>...</td>\n",
       "      <td>...</td>\n",
       "      <td>...</td>\n",
       "      <td>...</td>\n",
       "      <td>...</td>\n",
       "      <td>...</td>\n",
       "    </tr>\n",
       "    <tr>\n",
       "      <th>20890</th>\n",
       "      <td>1</td>\n",
       "      <td>61.0</td>\n",
       "      <td>0</td>\n",
       "      <td>0</td>\n",
       "      <td>1</td>\n",
       "      <td>1</td>\n",
       "      <td>79.89</td>\n",
       "      <td>24.5</td>\n",
       "      <td>1</td>\n",
       "      <td>0</td>\n",
       "    </tr>\n",
       "    <tr>\n",
       "      <th>3553</th>\n",
       "      <td>1</td>\n",
       "      <td>43.0</td>\n",
       "      <td>0</td>\n",
       "      <td>0</td>\n",
       "      <td>1</td>\n",
       "      <td>0</td>\n",
       "      <td>104.55</td>\n",
       "      <td>23.9</td>\n",
       "      <td>1</td>\n",
       "      <td>0</td>\n",
       "    </tr>\n",
       "    <tr>\n",
       "      <th>72337</th>\n",
       "      <td>1</td>\n",
       "      <td>55.0</td>\n",
       "      <td>0</td>\n",
       "      <td>0</td>\n",
       "      <td>1</td>\n",
       "      <td>0</td>\n",
       "      <td>231.76</td>\n",
       "      <td>42.9</td>\n",
       "      <td>0</td>\n",
       "      <td>0</td>\n",
       "    </tr>\n",
       "    <tr>\n",
       "      <th>66866</th>\n",
       "      <td>1</td>\n",
       "      <td>48.0</td>\n",
       "      <td>0</td>\n",
       "      <td>0</td>\n",
       "      <td>1</td>\n",
       "      <td>0</td>\n",
       "      <td>74.11</td>\n",
       "      <td>20.5</td>\n",
       "      <td>0</td>\n",
       "      <td>1</td>\n",
       "    </tr>\n",
       "    <tr>\n",
       "      <th>66530</th>\n",
       "      <td>1</td>\n",
       "      <td>38.0</td>\n",
       "      <td>0</td>\n",
       "      <td>0</td>\n",
       "      <td>1</td>\n",
       "      <td>0</td>\n",
       "      <td>162.30</td>\n",
       "      <td>23.6</td>\n",
       "      <td>0</td>\n",
       "      <td>0</td>\n",
       "    </tr>\n",
       "  </tbody>\n",
       "</table>\n",
       "<p>980 rows × 10 columns</p>\n",
       "</div>"
      ],
      "text/plain": [
       "       is_female   age  hypertension  heart_disease  ever_married  \\\n",
       "id                                                                  \n",
       "24201          0  33.0             0              0             1   \n",
       "70031          1  71.0             1              0             1   \n",
       "17013          0  78.0             1              0             0   \n",
       "67890          0  77.0             0              1             1   \n",
       "38078          1  82.0             1              1             1   \n",
       "...          ...   ...           ...            ...           ...   \n",
       "20890          1  61.0             0              0             1   \n",
       "3553           1  43.0             0              0             1   \n",
       "72337          1  55.0             0              0             1   \n",
       "66866          1  48.0             0              0             1   \n",
       "66530          1  38.0             0              0             1   \n",
       "\n",
       "       Rural_residence  avg_glucose_level   bmi  smoking  stroke  \n",
       "id                                                                \n",
       "24201                1              93.80  23.9        0       0  \n",
       "70031                1             195.25  33.3        0       0  \n",
       "17013                0             113.01  24.0        0       1  \n",
       "67890                0             102.96  20.9        0       0  \n",
       "38078                0              73.19  33.5        0       0  \n",
       "...                ...                ...   ...      ...     ...  \n",
       "20890                1              79.89  24.5        1       0  \n",
       "3553                 0             104.55  23.9        1       0  \n",
       "72337                0             231.76  42.9        0       0  \n",
       "66866                0              74.11  20.5        0       1  \n",
       "66530                0             162.30  23.6        0       0  \n",
       "\n",
       "[980 rows x 10 columns]"
      ]
     },
     "execution_count": 11,
     "metadata": {},
     "output_type": "execute_result"
    }
   ],
   "source": [
    "df_clf"
   ]
  },
  {
   "cell_type": "code",
   "execution_count": 12,
   "id": "db6a0495-432e-4ba5-aae9-ca35d51d2f8b",
   "metadata": {},
   "outputs": [],
   "source": [
    "X = df_clf[df_clf.columns[:-1]]\n",
    "y = df_clf[df_clf.columns[-1]]"
   ]
  },
  {
   "cell_type": "code",
   "execution_count": null,
   "id": "2b4cb330-78ea-4318-921d-03ecf52726b6",
   "metadata": {},
   "outputs": [],
   "source": []
  },
  {
   "cell_type": "markdown",
   "id": "9d1773e5-5901-4c51-b9de-b9522c26aa61",
   "metadata": {},
   "source": [
    "### Q2(a): Model fitting and log likelihood"
   ]
  },
  {
   "cell_type": "code",
   "execution_count": 13,
   "id": "ba201b8c-d922-4df5-9221-00fcd7cc8110",
   "metadata": {},
   "outputs": [],
   "source": [
    "import statsmodels.api as sm"
   ]
  },
  {
   "cell_type": "code",
   "execution_count": null,
   "id": "1b68231c-e314-4649-961d-274e53678d20",
   "metadata": {},
   "outputs": [],
   "source": []
  },
  {
   "cell_type": "markdown",
   "id": "a60c3880-1c09-46ae-adfc-431481e74b8b",
   "metadata": {},
   "source": [
    "### Q2(b): Remove non-significant features & new log likelihood"
   ]
  },
  {
   "cell_type": "code",
   "execution_count": null,
   "id": "939c7813-b895-4fb4-b7ec-3c99b241eb83",
   "metadata": {},
   "outputs": [],
   "source": []
  },
  {
   "cell_type": "markdown",
   "id": "911b7db3-67d3-4252-a8ad-c8a2e72e2be0",
   "metadata": {},
   "source": [
    "### Q2(c): Cross-validation & accuracy"
   ]
  },
  {
   "cell_type": "code",
   "execution_count": 14,
   "id": "61dc27eb-8ff6-4303-8e81-62a65faacc0b",
   "metadata": {},
   "outputs": [],
   "source": [
    "from sklearn.linear_model import LogisticRegression\n",
    "from sklearn.model_selection import cross_val_predict"
   ]
  },
  {
   "cell_type": "code",
   "execution_count": null,
   "id": "2aa6e9c7-7cef-4d07-b975-d8f5687f4cda",
   "metadata": {},
   "outputs": [],
   "source": []
  },
  {
   "cell_type": "markdown",
   "id": "5dfa6e1c-a3c2-4b45-a8b7-d0b0aa4f7739",
   "metadata": {},
   "source": [
    "### Q2(d): ROC curve and AUC"
   ]
  },
  {
   "cell_type": "code",
   "execution_count": 15,
   "id": "486ba828-7fde-45fb-a620-ba3a074fba47",
   "metadata": {},
   "outputs": [],
   "source": [
    "from sklearn.metrics import roc_curve, roc_auc_score"
   ]
  },
  {
   "cell_type": "code",
   "execution_count": null,
   "id": "ed004cf9-d82c-4648-b0bb-c1f33b884b89",
   "metadata": {},
   "outputs": [],
   "source": []
  },
  {
   "cell_type": "markdown",
   "id": "16479d1b-d72b-47ab-9629-96ee3fbc0ca5",
   "metadata": {},
   "source": [
    "### Q2(e): plot ROC curve and set threshold to control FPR"
   ]
  },
  {
   "cell_type": "code",
   "execution_count": 16,
   "id": "d3cb6ea0-2efa-4322-b5d1-ad7a4ded3e8b",
   "metadata": {},
   "outputs": [],
   "source": [
    "# idx = np.argmin(np.abs(fpr_cv_values - 0.05))"
   ]
  },
  {
   "cell_type": "code",
   "execution_count": null,
   "id": "b50d5197-7b8e-4596-880a-9cdfb4f801ef",
   "metadata": {},
   "outputs": [],
   "source": []
  },
  {
   "cell_type": "code",
   "execution_count": null,
   "id": "80cd5908-74a6-4941-9828-052d380a9b9e",
   "metadata": {},
   "outputs": [],
   "source": []
  }
 ],
 "metadata": {
  "kernelspec": {
   "display_name": "Python 3",
   "language": "python",
   "name": "python3"
  },
  "language_info": {
   "codemirror_mode": {
    "name": "ipython",
    "version": 3
   },
   "file_extension": ".py",
   "mimetype": "text/x-python",
   "name": "python",
   "nbconvert_exporter": "python",
   "pygments_lexer": "ipython3",
   "version": "3.8.8"
  }
 },
 "nbformat": 4,
 "nbformat_minor": 5
}
