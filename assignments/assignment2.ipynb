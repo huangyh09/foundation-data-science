{
 "cells": [
  {
   "cell_type": "markdown",
   "id": "160cc4dd-e3aa-4dab-8784-b50f89c5ee4e",
   "metadata": {},
   "source": [
    "# STAT1005 - Assignment 2\n",
    "\n",
    "* Name: \n",
    "* Student ID:"
   ]
  },
  {
   "cell_type": "code",
   "execution_count": 1,
   "id": "43bab5d6-7323-47ad-897c-b5167e65c957",
   "metadata": {},
   "outputs": [],
   "source": [
    "import numpy as np"
   ]
  },
  {
   "cell_type": "markdown",
   "id": "4e60f3a8-0ccf-4bd8-8787-f0becbb6ef30",
   "metadata": {},
   "source": [
    "## Q1: Confidence interval"
   ]
  },
  {
   "cell_type": "code",
   "execution_count": 2,
   "id": "3effb792-38b0-441d-b672-347d208ffae9",
   "metadata": {},
   "outputs": [],
   "source": [
    "wait_time = np.array([ 1, 4, 1, 8, 11, 4, 12, 4, 3, 11, 2, 6, 11, 6, \n",
    "                      0, 9, 4, 3, 2, 9, 7, 8, 8, 6, 9, 1, 5, 4, 4, 4])"
   ]
  },
  {
   "cell_type": "code",
   "execution_count": null,
   "id": "81cd4675-18ad-4493-8063-c16dc7035c3c",
   "metadata": {},
   "outputs": [],
   "source": []
  },
  {
   "cell_type": "markdown",
   "id": "d35d2b75-e79c-4bf3-84b9-2d7c9e7ca79f",
   "metadata": {},
   "source": [
    "## Q2: Bootstrapping"
   ]
  },
  {
   "cell_type": "code",
   "execution_count": 3,
   "id": "5322664d-1076-4604-8782-763253dad04a",
   "metadata": {},
   "outputs": [],
   "source": [
    "np.random.seed(0)"
   ]
  },
  {
   "cell_type": "code",
   "execution_count": null,
   "id": "110ecad0-6792-456c-8da8-df9500f96c4e",
   "metadata": {},
   "outputs": [],
   "source": []
  },
  {
   "cell_type": "markdown",
   "id": "3abf4f98-951b-471e-ba1a-3fcf29e3f1b3",
   "metadata": {},
   "source": [
    "## Q3: *t* test"
   ]
  },
  {
   "cell_type": "code",
   "execution_count": 4,
   "id": "577bb416-cdcc-444a-8a68-fa73f4461b0c",
   "metadata": {},
   "outputs": [],
   "source": [
    "girls_scores = np.array([77, 95, 89, 94, 99, 91, 90, 77, 85, 90, \n",
    "                         93, 96, 87, 77, 85, 98, 83, 89, 98, 72])\n",
    "boys_scores = np.array([91, 65, 87, 90, 84, 77, 76, 91, 75, 71, \n",
    "                        89, 97, 59, 84, 92, 87, 90, 79, 96, 89])"
   ]
  },
  {
   "cell_type": "code",
   "execution_count": null,
   "id": "b03db5de-2075-49d7-906d-ae7871a9848e",
   "metadata": {},
   "outputs": [],
   "source": []
  },
  {
   "cell_type": "markdown",
   "id": "48f2a1de-b72e-4509-ae5e-d32188385ae4",
   "metadata": {},
   "source": [
    "## Q4: Multiple testing"
   ]
  },
  {
   "cell_type": "code",
   "execution_count": null,
   "id": "5c60e3a6-11f3-4949-93d5-6a70cbe562b4",
   "metadata": {},
   "outputs": [],
   "source": []
  },
  {
   "cell_type": "code",
   "execution_count": null,
   "id": "9e6bf90d-3f4a-4b55-834f-344dd08574e9",
   "metadata": {},
   "outputs": [],
   "source": []
  },
  {
   "cell_type": "markdown",
   "id": "47fbd4cf-da8b-4b44-8fe0-cfe3a7404e24",
   "metadata": {},
   "source": [
    "## Q5: Power analysis"
   ]
  },
  {
   "cell_type": "markdown",
   "id": "ead2634a-8cb5-4b0b-9a8c-e3938e5305c7",
   "metadata": {},
   "source": [
    "**Hint**: for Q(5.b) Use `TTestIndPower` implemented in `statsmodels` e.g., via\n",
    "\n",
    "```\n",
    "from statsmodels.stats.power import TTestIndPower\n",
    "analysis = TTestIndPower()\n",
    "analysis.power( ADD_YOUR_INPUT_HERE )\n",
    "```\n",
    "\n",
    "https://www.statsmodels.org/dev/generated/statsmodels.stats.power.TTestIndPower.html"
   ]
  },
  {
   "cell_type": "code",
   "execution_count": null,
   "id": "a4544999-be18-4a75-8e4b-dcd2246522cf",
   "metadata": {},
   "outputs": [],
   "source": []
  },
  {
   "cell_type": "code",
   "execution_count": null,
   "id": "5466817c-b999-494d-97b4-e924dd503dda",
   "metadata": {},
   "outputs": [],
   "source": []
  },
  {
   "cell_type": "markdown",
   "id": "23d96576-c4e0-41a8-9112-44cd322d50e6",
   "metadata": {},
   "source": [
    "## Q6: Regression-based test"
   ]
  },
  {
   "cell_type": "markdown",
   "id": "a771e0fa-1903-4a8e-b7d4-3f74aa90645c",
   "metadata": {},
   "source": [
    "**Hint**: Use linear regression implemented in statsmodels.\n",
    "https://www.statsmodels.org/dev/generated/statsmodels.regression.linear_model.OLS.html"
   ]
  },
  {
   "cell_type": "code",
   "execution_count": 5,
   "id": "7d9c7c6c-8af1-400f-a618-c1564438a34e",
   "metadata": {},
   "outputs": [],
   "source": [
    "import pandas as pd\n",
    "\n",
    "df = pd.DataFrame({\n",
    "    'scores': [77, 95, 89, 94, 99, 91, 90, 77, 85, 90, 93, 96, 87, 77, 85, \n",
    "               98, 83, 89, 98, 72, 91, 65, 87, 90, 84, 77, 76, 91, 75, 71, \n",
    "               89, 97, 59, 84, 92, 87, 90, 79, 96, 89],\n",
    "    'is_girl': [1., 1., 1., 1., 1., 1., 1., 1., 1., 1., 1., 1., 1., 1., \n",
    "                1., 1., 1., 1., 1., 1., 0., 0., 0., 0., 0., 0., 0., 0., \n",
    "                0., 0., 0., 0., 0., 0., 0., 0., 0., 0., 0., 0.],\n",
    "    'study_time': [3.6, 4.3, 3.7, 4. , 5.4, 3. , 5. , 2.4, 3.8, 4. , 5.1, \n",
    "                   3.7, 3.6, 2.6, 4.2, 4.4, 3.3, 3.6, 4.9, 2.6, 3.6, 2.2, \n",
    "                   4.3, 4.4, 4. , 2.5, 2.6, 3.7, 2.5, 2.5, 3.7, 4.6, 0.7, \n",
    "                   3.1, 4. , 3.8, 3.5, 3.1, 5.5, 4.4],\n",
    "    'intercept': [1., 1., 1., 1., 1., 1., 1., 1., 1., 1., 1., 1., 1., 1., \n",
    "                  1., 1., 1., 1., 1., 1., 1., 1., 1., 1., 1., 1., 1., 1., \n",
    "                  1., 1., 1., 1., 1., 1., 1., 1., 1., 1., 1., 1.]}\n",
    ")"
   ]
  },
  {
   "cell_type": "code",
   "execution_count": null,
   "id": "f49f56f8-3dc9-4659-aee9-d5dd1c0acb5c",
   "metadata": {},
   "outputs": [],
   "source": []
  },
  {
   "cell_type": "code",
   "execution_count": null,
   "id": "0846039c-d6ef-4ef1-aeb4-cc48ee2a1d6b",
   "metadata": {},
   "outputs": [],
   "source": []
  }
 ],
 "metadata": {
  "kernelspec": {
   "display_name": "Python 3",
   "language": "python",
   "name": "python3"
  },
  "language_info": {
   "codemirror_mode": {
    "name": "ipython",
    "version": 3
   },
   "file_extension": ".py",
   "mimetype": "text/x-python",
   "name": "python",
   "nbconvert_exporter": "python",
   "pygments_lexer": "ipython3",
   "version": "3.8.8"
  }
 },
 "nbformat": 4,
 "nbformat_minor": 5
}
