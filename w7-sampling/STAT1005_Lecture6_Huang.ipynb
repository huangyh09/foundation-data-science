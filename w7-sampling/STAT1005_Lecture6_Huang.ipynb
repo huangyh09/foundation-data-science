{
 "cells": [
  {
   "cell_type": "markdown",
   "id": "d2ca3aa3-7e9b-441b-8cf7-379810749d48",
   "metadata": {},
   "source": [
    "# Notebook for generating examples in lecture 5"
   ]
  },
  {
   "cell_type": "code",
   "execution_count": null,
   "id": "2b0ed976-56fd-4403-bb43-cad9bfc43133",
   "metadata": {},
   "outputs": [],
   "source": [
    "import numpy as np\n",
    "from scipy import stats\n",
    "import matplotlib.pyplot as plt"
   ]
  },
  {
   "cell_type": "code",
   "execution_count": null,
   "id": "774fc104-fc75-4e40-87d9-f73cc80a778c",
   "metadata": {},
   "outputs": [],
   "source": [
    "np.random.seed(5)\n",
    "X_sample = np.random.binomial(n=10, p=1/6, size=100)"
   ]
  },
  {
   "cell_type": "code",
   "execution_count": null,
   "id": "232a5b13-6fce-4055-a409-864ad728ea6d",
   "metadata": {},
   "outputs": [],
   "source": [
    "X_sample"
   ]
  },
  {
   "cell_type": "code",
   "execution_count": null,
   "id": "c995e335-c603-4f8c-8d62-7d52ee828dc8",
   "metadata": {},
   "outputs": [],
   "source": [
    "sixes = stats.binom(10, 1/6)  # n=10, p=1/6"
   ]
  },
  {
   "cell_type": "code",
   "execution_count": null,
   "id": "369aac48-e815-405f-994e-ef736469d729",
   "metadata": {},
   "outputs": [],
   "source": [
    "# plot the probability mass function\n",
    "x = np.arange(11)\n",
    "plt.plot(x,sixes.pmf(x), 'ro', ms=8)\n",
    "plt.vlines(x, 0, sixes.pmf(x), colors='r', lw=4)\n",
    "plt.show()"
   ]
  },
  {
   "cell_type": "code",
   "execution_count": null,
   "id": "5946369d-fb7d-4141-b37e-1a04b0979f85",
   "metadata": {},
   "outputs": [],
   "source": [
    "_loc = np.arange(11)\n",
    "_cnt = np.bincount(X_sample, minlength=11)\n",
    "plt.plot(_loc, _cnt, 'ko', ms=8)\n",
    "plt.vlines(_loc, 0, _cnt, colors='k', lw=4)\n",
    "plt.xlim(-0.5, 10.5)"
   ]
  },
  {
   "cell_type": "code",
   "execution_count": null,
   "id": "5d748e9e-6b3c-4e73-a08b-bd15c9c15dc1",
   "metadata": {},
   "outputs": [],
   "source": []
  },
  {
   "cell_type": "markdown",
   "id": "f48a6f5e-bfca-4ebc-87ee-8e16ce7242db",
   "metadata": {},
   "source": [
    "## Central limit theorem - confidence interval"
   ]
  },
  {
   "cell_type": "code",
   "execution_count": null,
   "id": "0d2f6b0e-58b9-4776-bc21-186cb4833aa0",
   "metadata": {},
   "outputs": [],
   "source": [
    "X_sample.mean(), X_sample.var(ddof=1)"
   ]
  },
  {
   "cell_type": "code",
   "execution_count": null,
   "id": "e0376900-8439-45d6-9e34-3313097685d1",
   "metadata": {},
   "outputs": [],
   "source": [
    "_loc = X_sample.mean()\n",
    "_std = np.sqrt(X_sample.var(ddof=1) / len(X_sample))\n",
    "\n",
    "_ci95_low = stats.norm.ppf(0.025, loc=_loc, scale=_std)\n",
    "_ci95_high = stats.norm.ppf(0.975, loc=_loc, scale=_std)\n",
    "\n",
    "print(_loc, _std)\n",
    "print(_ci95_low, _ci95_high)"
   ]
  },
  {
   "cell_type": "code",
   "execution_count": null,
   "id": "df68af80-db36-401c-a5f2-23a37ab2c15a",
   "metadata": {},
   "outputs": [],
   "source": [
    "_loc = X_sample.mean()\n",
    "_std = np.sqrt(X_sample.var(ddof=1) / len(X_sample))\n",
    "\n",
    "_ci95_low = stats.norm.ppf(0.025, loc=_loc, scale=_std)\n",
    "_ci95_high = stats.norm.ppf(0.975, loc=_loc, scale=_std)\n",
    "\n",
    "## coarse estimates:\n",
    "# _ci95_low = _loc - 2*_std\n",
    "# _ci95_high =_loc + 2*_std\n",
    "\n",
    "_xx = np.arange(1.3, 2.1, 0.01)\n",
    "_pdf = stats.norm.pdf(_xx, loc=_loc, scale=_std)\n",
    "\n",
    "fig = plt.figure(dpi=100)\n",
    "plt.plot(_xx, _pdf)\n",
    "plt.axvline(x=_loc, color='g', label='sample mean: %.2f' %(_loc))\n",
    "plt.axvline(x=_ci95_low, color='tab:pink', ls='--', \n",
    "            label='95%%CI Low: %.2f' %(_ci95_low))\n",
    "plt.axvline(x=_ci95_high, color='tab:orange', ls='--', \n",
    "            label='95%%CI High: %.2f' %(_ci95_high))\n",
    "plt.legend(loc=2)\n",
    "plt.ylabel('PDF')\n",
    "plt.xlabel('Value for population mean')\n",
    "plt.title('CLT estimation of population mean')\n",
    "plt.show()"
   ]
  },
  {
   "cell_type": "code",
   "execution_count": null,
   "id": "2031184b-1156-4b05-8c04-eea26110386a",
   "metadata": {},
   "outputs": [],
   "source": []
  },
  {
   "cell_type": "markdown",
   "id": "a439884c-b768-408e-b495-f9167090721e",
   "metadata": {},
   "source": [
    "## Small samples with *t*-distribution\n",
    "*Note, this requires the population follows a Normal distribution*\n",
    "We use a sample of new born baby weight in HK:\n",
    "3.08 ± 0.39 kg"
   ]
  },
  {
   "cell_type": "code",
   "execution_count": null,
   "id": "eaee6e34-5a9f-417f-80d9-3b526df373d0",
   "metadata": {},
   "outputs": [],
   "source": [
    "np.random.seed(0)\n",
    "X_small_sample = np.random.normal(loc=3.08, scale=0.39, size=10)\n",
    "X_small_sample"
   ]
  },
  {
   "cell_type": "code",
   "execution_count": null,
   "id": "9b6639b3-7008-4b9e-ae44-573f7c065d85",
   "metadata": {},
   "outputs": [],
   "source": [
    "[round(x, 2) for x in X_small_sample]"
   ]
  },
  {
   "cell_type": "code",
   "execution_count": null,
   "id": "36f6536f-509f-4cbb-ba1f-95610c293cc9",
   "metadata": {},
   "outputs": [],
   "source": [
    "# X_small_sample = X_sample[:10]\n",
    "_loc = X_small_sample.mean()\n",
    "_std = np.sqrt(X_small_sample.var(ddof=1) / len(X_small_sample))\n",
    "\n",
    "print(_loc, _std, X_small_sample.std())\n",
    "\n",
    "_ci95_low = stats.t.ppf(0.025, df=len(X_small_sample)-1, loc=_loc, scale=_std)\n",
    "_ci95_high = stats.t.ppf(0.975, df=len(X_small_sample)-1, loc=_loc, scale=_std)\n",
    "\n",
    "_xx = np.arange(2.6, 3.9, 0.01)\n",
    "_pdf = stats.t.pdf(_xx, df=len(X_small_sample)-1, loc=_loc, scale=_std)\n",
    "\n",
    "fig = plt.figure(dpi=100)\n",
    "plt.plot(_xx, _pdf)\n",
    "plt.axvline(x=_loc, color='g', label='sample mean: %.2f' %(_loc))\n",
    "plt.axvline(x=_ci95_low, color='tab:pink', ls='--', \n",
    "            label='95%%CI Low: %.2f' %(_ci95_low))\n",
    "plt.axvline(x=_ci95_high, color='tab:orange', ls='--', \n",
    "            label='95%%CI High: %.2f' %(_ci95_high))\n",
    "plt.legend(loc=2)\n",
    "plt.ylabel('PDF')\n",
    "plt.xlabel('Value for population mean')\n",
    "plt.title('Estimation of population mean with t distribution (df=9)')\n",
    "plt.show()"
   ]
  },
  {
   "cell_type": "code",
   "execution_count": null,
   "id": "a9421cc4-e60e-4ff2-9875-9c6a1129511a",
   "metadata": {},
   "outputs": [],
   "source": []
  },
  {
   "cell_type": "markdown",
   "id": "64cce90e-970d-4c7f-8d44-edb23e5ab9fb",
   "metadata": {},
   "source": [
    "## Bootstrapping Confidence Interval"
   ]
  },
  {
   "cell_type": "code",
   "execution_count": null,
   "id": "78670681-2970-4c45-a050-f701ed033466",
   "metadata": {},
   "outputs": [],
   "source": [
    "np.random.seed(3)\n",
    "X_bs_samples = np.random.choice(X_sample, replace=True, size=(100, 1000))\n",
    "X_bs = X_bs_samples.mean(axis=0)"
   ]
  },
  {
   "cell_type": "code",
   "execution_count": null,
   "id": "4a655a2f-e47a-490d-90cc-5ad66869c47f",
   "metadata": {},
   "outputs": [],
   "source": [
    "np.mean(X_bs), np.var(X_bs, ddof=1)"
   ]
  },
  {
   "cell_type": "code",
   "execution_count": null,
   "id": "7c5733f5-5e0d-41c3-96e7-3c36961f3688",
   "metadata": {},
   "outputs": [],
   "source": [
    "np.quantile(X_bs, q=0.025), np.quantile(X_bs, q=0.975)"
   ]
  },
  {
   "cell_type": "code",
   "execution_count": null,
   "id": "9a2cf173-adef-4ecf-9a66-5f80904a70e1",
   "metadata": {},
   "outputs": [],
   "source": [
    "_low_bound = np.quantile(X_bs, q=0.025)\n",
    "_high_bound = np.quantile(X_bs, q=0.975)\n",
    "\n",
    "fig = plt.figure(dpi=100)\n",
    "plt.hist(X_bs, bins=20, alpha=0.7)\n",
    "plt.axvline(x=X_sample.mean(), color='g', \n",
    "            label='sample mean: %.2f' %(X_sample.mean()))\n",
    "plt.axvline(x=X_bs.mean(), color='r', \n",
    "            label='mean of bootstrap: %.2f' %(X_bs.mean()))\n",
    "plt.axvline(x=_low_bound, color='tab:pink', \n",
    "            ls='--', label='95%%CI Low: %.2f' %(_low_bound))\n",
    "plt.axvline(x=_high_bound, color='tab:orange', \n",
    "            ls='--', label='95%%CI Hihg: %.2f' %(_high_bound))\n",
    "plt.xlabel(\"Bootstrap mean\")\n",
    "plt.ylabel(\"Frequency\")\n",
    "plt.title(\"Distribution of bootstrap mean | 1000 iterations\")\n",
    "plt.legend(loc=2)\n",
    "plt.show()"
   ]
  },
  {
   "cell_type": "code",
   "execution_count": null,
   "id": "622e41e9-98be-4bbd-8234-3b97641d4c75",
   "metadata": {},
   "outputs": [],
   "source": []
  },
  {
   "cell_type": "markdown",
   "id": "6f72a003-5928-42a1-8093-e01bceb98bca",
   "metadata": {},
   "source": [
    "## Theoretical confidence interval"
   ]
  },
  {
   "cell_type": "code",
   "execution_count": null,
   "id": "063fb0ee-5627-4ac7-a6b8-8b865ed4dd75",
   "metadata": {},
   "outputs": [],
   "source": [
    "np.random.seed(3)\n",
    "X_reps = np.random.binomial(n=10, p=1/6, size=(100, 1000))\n",
    "X_mean_reps = X_reps.mean(axis=0)"
   ]
  },
  {
   "cell_type": "code",
   "execution_count": null,
   "id": "207658a2-b423-4b2d-a7e7-27d7a4c37885",
   "metadata": {},
   "outputs": [],
   "source": [
    "np.quantile(X_mean_reps, q=0.025), np.quantile(X_mean_reps, q=0.975)"
   ]
  },
  {
   "cell_type": "code",
   "execution_count": null,
   "id": "8e88ec04-5af4-4e38-99fc-6c71955cec8e",
   "metadata": {},
   "outputs": [],
   "source": [
    "_low_bound = np.quantile(X_mean_reps, q=0.025)\n",
    "_high_bound = np.quantile(X_mean_reps, q=0.975)\n",
    "\n",
    "fig = plt.figure(dpi=100)\n",
    "plt.hist(X_mean_reps, bins=20, alpha=0.7)\n",
    "plt.axvline(x=X_mean_reps.mean(), color='r', \n",
    "            label='mean:%.2f' %(X_mean_reps.mean()))\n",
    "plt.axvline(x=_low_bound, color='tab:pink', \n",
    "            ls='--', label='95%%CI Low: %.2f' %(_low_bound))\n",
    "plt.axvline(x=_high_bound, color='tab:orange', \n",
    "            ls='--', label='95%%CI Hihg: %.2f' %(_high_bound))\n",
    "plt.xlabel(\"Sample mean\")\n",
    "plt.ylabel(\"Frequency\")\n",
    "plt.title(\"True distribution of sample mean | 1000 sample sets\")\n",
    "plt.legend(loc=2)\n",
    "plt.show()"
   ]
  },
  {
   "cell_type": "code",
   "execution_count": null,
   "id": "82dbee6a-e4f1-41bd-8847-228ecb182ded",
   "metadata": {},
   "outputs": [],
   "source": []
  },
  {
   "cell_type": "markdown",
   "id": "5c8fd478-f3b3-4fe0-9b5d-6d8f1bba42ea",
   "metadata": {},
   "source": [
    "## Example of sampling with replacement"
   ]
  },
  {
   "cell_type": "code",
   "execution_count": null,
   "id": "3e3fce87-60db-4213-8cdf-7d070005d492",
   "metadata": {},
   "outputs": [],
   "source": [
    "X_unif = np.arange(10)\n",
    "X_unif"
   ]
  },
  {
   "cell_type": "code",
   "execution_count": null,
   "id": "0c27e66b-b3c9-4992-aabd-da0b69de8964",
   "metadata": {},
   "outputs": [],
   "source": [
    "np.random.choice(X_unif, replace=True, size=10)"
   ]
  },
  {
   "cell_type": "code",
   "execution_count": null,
   "id": "df9494cc-1a31-46a5-875a-d29975522339",
   "metadata": {},
   "outputs": [],
   "source": [
    "X_unif_bs = np.random.choice(X_unif, replace=True, size=(10, 1000))"
   ]
  },
  {
   "cell_type": "code",
   "execution_count": null,
   "id": "f38869c8-d655-40f9-903c-d2e2a19ef5ce",
   "metadata": {},
   "outputs": [],
   "source": [
    "fig = plt.figure(dpi=100)\n",
    "plt.hist(X_unif_bs.mean(axis=0), bins=30)\n",
    "plt.xlabel(\"Bootstrap mean\")\n",
    "plt.ylabel(\"Frequency\")\n",
    "plt.title(\"Distribution of bootstrap mean | 1000 iterations\")\n",
    "plt.show()"
   ]
  },
  {
   "cell_type": "code",
   "execution_count": null,
   "id": "1c6b0c1c-029c-44bd-9944-e69166129290",
   "metadata": {},
   "outputs": [],
   "source": []
  }
 ],
 "metadata": {
  "kernelspec": {
   "display_name": "Python 3",
   "language": "python",
   "name": "python3"
  },
  "language_info": {
   "codemirror_mode": {
    "name": "ipython",
    "version": 3
   },
   "file_extension": ".py",
   "mimetype": "text/x-python",
   "name": "python",
   "nbconvert_exporter": "python",
   "pygments_lexer": "ipython3",
   "version": "3.8.8"
  }
 },
 "nbformat": 4,
 "nbformat_minor": 5
}
