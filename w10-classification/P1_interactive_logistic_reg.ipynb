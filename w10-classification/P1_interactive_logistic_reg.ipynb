{
 "cells": [
  {
   "cell_type": "markdown",
   "id": "8a276a0b-ae6b-4142-969b-5afa130c5642",
   "metadata": {},
   "source": [
    "# Interactive illustration of logistic regression"
   ]
  },
  {
   "cell_type": "markdown",
   "id": "08d96145-d755-4388-a447-eba73aad3f6c",
   "metadata": {},
   "source": [
    "## Check logistic and logit function\n",
    "\n",
    "They are the same as \n",
    "`from scipy.special import logit, logistic`"
   ]
  },
  {
   "cell_type": "code",
   "execution_count": 1,
   "id": "14f65193-4235-4a15-a969-581c229efe40",
   "metadata": {},
   "outputs": [],
   "source": [
    "import numpy as np\n",
    "import matplotlib.pyplot as plt"
   ]
  },
  {
   "cell_type": "code",
   "execution_count": 2,
   "id": "5dfb4dea-e843-42a9-af0a-cc4d771087e7",
   "metadata": {},
   "outputs": [
    {
     "data": {
      "image/png": "[encoded data removed]",
      "text/plain": [
       "<Figure size 432x288 with 1 Axes>"
      ]
     },
     "metadata": {
      "needs_background": "light"
     },
     "output_type": "display_data"
    }
   ],
   "source": [
    "fig = plt.figure()\n",
    "ax = plt.axes()\n",
    "\n",
    "x = np.linspace(0.001, 0.999, 200)\n",
    "ax.plot(x, np.log(x/(1-x)));\n",
    "ax.plot(x, 0*x)\n",
    "plt.xlabel('x')\n",
    "plt.ylabel('Logit(x)')\n",
    "plt.show()"
   ]
  },
  {
   "cell_type": "code",
   "execution_count": 3,
   "id": "2c15a12a-2ec1-464e-863c-d0a3fdde004d",
   "metadata": {},
   "outputs": [
    {
     "data": {
      "image/png": "[encoded data removed]",
      "text/plain": [
       "<Figure size 432x288 with 1 Axes>"
      ]
     },
     "metadata": {
      "needs_background": "light"
     },
     "output_type": "display_data"
    }
   ],
   "source": [
    "fig = plt.figure()\n",
    "ax = plt.axes()\n",
    "\n",
    "x = np.linspace(-8, 8, 200)\n",
    "ax.plot(x, np.exp(x)/(1+ np.exp(x)  ));\n",
    "plt.xlabel('z')\n",
    "plt.ylabel('P=Logistic(z)')\n",
    "plt.show()"
   ]
  },
  {
   "cell_type": "markdown",
   "id": "59af0b34-62d3-44c3-b412-50e2480d436d",
   "metadata": {},
   "source": [
    "## Visualise logistic boundary"
   ]
  },
  {
   "cell_type": "markdown",
   "id": "27a6f5b5-21eb-479f-9c37-6fc70e1192cd",
   "metadata": {},
   "source": [
    "### Load package and generate data"
   ]
  },
  {
   "cell_type": "code",
   "execution_count": 4,
   "id": "3bfbf56e-ea39-4ba8-b398-95ac6c4a43e6",
   "metadata": {},
   "outputs": [],
   "source": [
    "from sklearn.datasets import make_moons\n",
    "from sklearn.preprocessing import StandardScaler\n",
    "from sklearn.model_selection import train_test_split\n",
    "\n",
    "ds = make_moons(noise=0.3, random_state=0)\n",
    "X, y = ds\n",
    "\n",
    "X = StandardScaler().fit_transform(X)\n",
    "X_train, X_test, y_train, y_test = train_test_split(\n",
    "    X, y, test_size=0.4, random_state=42\n",
    ")"
   ]
  },
  {
   "cell_type": "markdown",
   "id": "2ead3687-9241-4f32-9f72-1e574815aa5a",
   "metadata": {},
   "source": [
    "### Fit Logisitic regression\n",
    "\n",
    "The predicted probability to be class 1 is:\n",
    "\n",
    "$$P(y=1|X, W) = \\sigma(w_0, x_1 * w_1 + ... + x_p * w_p)$$"
   ]
  },
  {
   "cell_type": "code",
   "execution_count": 5,
   "id": "5a47e928-e581-4416-82e7-24e9d099b17a",
   "metadata": {},
   "outputs": [
    {
     "data": {
      "text/plain": [
       "LogisticRegression()"
      ]
     },
     "execution_count": 5,
     "metadata": {},
     "output_type": "execute_result"
    }
   ],
   "source": [
    "from sklearn.linear_model import LogisticRegression\n",
    "clf = LogisticRegression()\n",
    "clf.fit(X_train, y_train)"
   ]
  },
  {
   "cell_type": "code",
   "execution_count": 6,
   "id": "84f6672e-d40c-4a20-859d-6ebd3df4e96d",
   "metadata": {},
   "outputs": [
    {
     "data": {
      "text/plain": [
       "(array([[ 1.00485779, -1.64997314]]), array([-0.03005985]))"
      ]
     },
     "execution_count": 6,
     "metadata": {},
     "output_type": "execute_result"
    }
   ],
   "source": [
    "clf.coef_, clf.intercept_"
   ]
  },
  {
   "cell_type": "markdown",
   "id": "a9dd938c-a4fd-42b3-a762-567a8ec562a0",
   "metadata": {},
   "source": [
    "### Plot decision boundary\n",
    "\n",
    "* Plotting codes are adapted from [scikit-learn examples](https://scikit-learn.org/stable/auto_examples/classification/plot_classifier_comparison.html) and [ipywidgets](https://ipywidgets.readthedocs.io/en/latest/examples/Using%20Interact.html) package.\n",
    "\n",
    "* Change the values of w1 and w2 to see the change of decision boundary and accuracy in test set"
   ]
  },
  {
   "cell_type": "code",
   "execution_count": 7,
   "id": "12d23375-4f41-468e-9816-66a56cfa0640",
   "metadata": {},
   "outputs": [],
   "source": [
    "# !pip install ipywidgets"
   ]
  },
  {
   "cell_type": "code",
   "execution_count": 8,
   "id": "e6528d1a-f525-445a-a5f2-405b47847b6b",
   "metadata": {},
   "outputs": [
    {
     "data": {
      "application/vnd.jupyter.widget-view+json": {
       "model_id": "7d7e25419422435ba8895530751fdde6",
       "version_major": 2,
       "version_minor": 0
      },
      "text/plain": [
       "interactive(children=(FloatSlider(value=0.0, description='w1', max=3.0, min=-3.0), FloatSlider(value=0.0, desc…"
      ]
     },
     "metadata": {},
     "output_type": "display_data"
    }
   ],
   "source": [
    "%matplotlib inline\n",
    "\n",
    "import numpy as np\n",
    "import matplotlib.pyplot as plt\n",
    "from ipywidgets import interactive\n",
    "from matplotlib.colors import ListedColormap\n",
    "\n",
    "def f(w1, w2):\n",
    "    \n",
    "    h = 0.02\n",
    "    x_min, x_max = X[:, 0].min() - 0.5, X[:, 0].max() + 0.5\n",
    "    y_min, y_max = X[:, 1].min() - 0.5, X[:, 1].max() + 0.5\n",
    "    xx, yy = np.meshgrid(np.arange(x_min, x_max, h), \n",
    "                         np.arange(y_min, y_max, h))\n",
    "    \n",
    "    # clf.intercept_ = np.array([0])\n",
    "    clf.coef_ = np.array([[w1, w2]])\n",
    "    \n",
    "    score = clf.score(X_test, y_test)\n",
    "\n",
    "    # Plot the decision boundary. For that, we will assign a color to each\n",
    "    # point in the mesh [x_min, x_max]x[y_min, y_max].\n",
    "    if hasattr(clf, \"decision_function\"):\n",
    "        Z = clf.decision_function(np.c_[xx.ravel(), yy.ravel()])\n",
    "    else:\n",
    "        Z = clf.predict_proba(np.c_[xx.ravel(), yy.ravel()])[:, 1]\n",
    "    Z = Z.reshape(xx.shape)\n",
    "    \n",
    "    \n",
    "    plt.figure(2)\n",
    "    # just plot the dataset first\n",
    "    cm = plt.cm.RdBu\n",
    "    cm_bright = ListedColormap([\"#FF0000\", \"#0000FF\"])\n",
    "    \n",
    "    contours = plt.contourf(xx, yy, Z, cmap=cm, alpha=0.8)\n",
    "    contours = plt.contour(xx, yy, Z, cmap=cm, alpha=0.8)\n",
    "    plt.clabel(contours, fontsize=12, inline=False, fmt='%1.1f', colors='k')\n",
    "\n",
    "    # Plot the training points\n",
    "    plt.scatter(\n",
    "        X_train[:, 0], X_train[:, 1], c=y_train, \n",
    "        cmap=cm_bright, edgecolors=\"k\"\n",
    "    )\n",
    "    # Plot the testing points\n",
    "    plt.scatter(\n",
    "        X_test[:, 0], X_test[:, 1], c=y_test, \n",
    "        cmap=cm_bright, edgecolors=\"k\", alpha=0.6,\n",
    "    )\n",
    "    plt.text(xx.max() - 0.2, yy.max() - 0.5,\n",
    "             (\"Acc=%.3f\" % score).lstrip(\"0\"),\n",
    "             size=15, horizontalalignment=\"right\"\n",
    "            )\n",
    "    plt.xlabel('w1')\n",
    "    plt.ylabel('w2')\n",
    "    \n",
    "    plt.show()\n",
    "\n",
    "interactive_plot = interactive(f, w1=(-3.0, 3.0, 0.1), w2=(-4, 4, 0.1))\n",
    "output = interactive_plot.children[-1]\n",
    "# output.layout.height = '350px'\n",
    "interactive_plot"
   ]
  },
  {
   "cell_type": "code",
   "execution_count": null,
   "id": "c432e089-f14a-4ad1-a42e-f9436b31f207",
   "metadata": {},
   "outputs": [],
   "source": []
  }
 ],
 "metadata": {
  "kernelspec": {
   "display_name": "PyEnv",
   "language": "python",
   "name": "pyenv"
  },
  "language_info": {
   "codemirror_mode": {
    "name": "ipython",
    "version": 3
   },
   "file_extension": ".py",
   "mimetype": "text/x-python",
   "name": "python",
   "nbconvert_exporter": "python",
   "pygments_lexer": "ipython3",
   "version": "3.8.10"
  }
 },
 "nbformat": 4,
 "nbformat_minor": 5
}
